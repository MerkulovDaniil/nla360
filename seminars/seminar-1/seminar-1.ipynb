{
 "cells": [
  {
   "cell_type": "code",
   "execution_count": 18,
   "metadata": {},
   "outputs": [
    {
     "data": {
      "text/plain": [
       "0.30000000000000004"
      ]
     },
     "execution_count": 18,
     "metadata": {},
     "output_type": "execute_result"
    }
   ],
   "source": [
    "0.1+0.2"
   ]
  },
  {
   "cell_type": "code",
   "execution_count": 19,
   "metadata": {},
   "outputs": [
    {
     "data": {
      "text/plain": [
       "0.9"
      ]
     },
     "execution_count": 19,
     "metadata": {},
     "output_type": "execute_result"
    }
   ],
   "source": [
    "0.4+0.5"
   ]
  },
  {
   "cell_type": "markdown",
   "metadata": {},
   "source": [
    "# Семинар 1\n",
    "\n",
    "Фиксированная и плавающая точка, векторные нормы и понятие устойчивости алгоритмов."
   ]
  },
  {
   "cell_type": "markdown",
   "metadata": {},
   "source": [
    "## 🧐 Почему `0.1 + 0.2 != 0.3`?\n",
    "\n",
    "Числа с плавающей запятой в Python хранятся в формате **IEEE 754**, который использует **бинарное представление** чисел. Однако не все десятичные дроби можно точно представить в двоичной системе. Например:\n",
    "\n",
    "- Десятичное `0.1` в двоичном формате представляется бесконечной дробью:  \n",
    "  ```\n",
    "  0.0001100110011001100110011001100110011... (повторяется бесконечно)\n",
    "  ```\n",
    "- То же самое касается `0.2`:  \n",
    "  ```\n",
    "  0.001100110011001100110011001100110011... (тоже бесконечная дробь)\n",
    "  ```\n",
    "\n",
    "Так как компьютер работает с ограниченной точностью, он **усекает** эти дроби, оставляя только конечное число битов. Это приводит к небольшим ошибкам округления.\n",
    "\n",
    "### 🧮 Доказательство в Python\n",
    "\n",
    "Если вывести точное двоичное представление `0.1`, `0.2` и `0.3`, можно увидеть разницу:\n"
   ]
  },
  {
   "cell_type": "code",
   "execution_count": 20,
   "metadata": {},
   "outputs": [
    {
     "name": "stdout",
     "output_type": "stream",
     "text": [
      "0.1000000000000000055511151231257827021181583404541015625\n",
      "0.200000000000000011102230246251565404236316680908203125\n",
      "0.299999999999999988897769753748434595763683319091796875\n"
     ]
    }
   ],
   "source": [
    "from decimal import Decimal\n",
    "\n",
    "print(Decimal(0.1))  # 0.1000000000000000055511151231257827021181583404541015625\n",
    "print(Decimal(0.2))  # 0.200000000000000011102230246251565404236316680908203125\n",
    "print(Decimal(0.3))  # 0.299999999999999988897769753748434595763683319091796875"
   ]
  },
  {
   "cell_type": "markdown",
   "metadata": {},
   "source": [
    "Теперь сложим `0.1 + 0.2`:"
   ]
  },
  {
   "cell_type": "code",
   "execution_count": 21,
   "metadata": {},
   "outputs": [
    {
     "name": "stdout",
     "output_type": "stream",
     "text": [
      "0.3000000000000000166533453694\n"
     ]
    }
   ],
   "source": [
    "print(Decimal(0.1) + Decimal(0.2))  "
   ]
  },
  {
   "cell_type": "markdown",
   "metadata": {},
   "source": [
    "А `0.3` на самом деле:"
   ]
  },
  {
   "cell_type": "code",
   "execution_count": 5,
   "metadata": {},
   "outputs": [
    {
     "name": "stdout",
     "output_type": "stream",
     "text": [
      "0.299999999999999988897769753748434595763683319091796875\n"
     ]
    }
   ],
   "source": [
    "print(Decimal(0.3))  "
   ]
  },
  {
   "cell_type": "markdown",
   "metadata": {},
   "source": [
    "Они **не равны** из-за разницы в последних разрядах!\n",
    "\n",
    "### 🤔 Как правильно сравнивать?\n",
    "\n",
    "Поскольку числа с плавающей запятой содержат небольшие ошибки округления, их **нельзя сравнивать напрямую** с `==`. Вместо этого используют **погрешность** (`epsilon`):"
   ]
  },
  {
   "cell_type": "code",
   "execution_count": 24,
   "metadata": {},
   "outputs": [
    {
     "data": {
      "text/plain": [
       "False"
      ]
     },
     "execution_count": 24,
     "metadata": {},
     "output_type": "execute_result"
    }
   ],
   "source": [
    "(0.1+0.2)==0.3"
   ]
  },
  {
   "cell_type": "code",
   "execution_count": 26,
   "metadata": {},
   "outputs": [
    {
     "name": "stdout",
     "output_type": "stream",
     "text": [
      "True\n"
     ]
    }
   ],
   "source": [
    "import math\n",
    "\n",
    "a = 0.1 + 0.2\n",
    "b = 0.3\n",
    "\n",
    "print(math.isclose(a, b, rel_tol=1e-9)) "
   ]
  },
  {
   "cell_type": "markdown",
   "metadata": {},
   "source": [
    "Функция `math.isclose()` проверяет, находятся ли два числа **достаточно близко** друг к другу с учетом заданной относительной ошибки."
   ]
  },
  {
   "cell_type": "markdown",
   "metadata": {},
   "source": [
    "## Числа с фиксированной точкой\n",
    "Число с фиксированной точкой состоит из 1-битного знака, $m$-битного целого и $n$-битного дробного числа:\n",
    "$$\n",
    "\\text{decimal} = \n",
    "(-1)^{\\text{sign}} \\times \n",
    "\\Big(\n",
    "\\sum_{i=0}^{m-1} \\text{integer}[i] \\cdot base^{m-1-i} + \n",
    "\\sum_{i=0}^{n-1} \\text{fractional}[i] \\cdot base^{-i-1}\n",
    "\\Big)\n",
    "$$\n",
    "\n",
    "- диапазон $[-2^m + 2^{-n}, 2^m - 2^{-n}]$\n",
    "- разрешение $2^{-n}$\n",
    "- общее количество бит $m + n + 1$"
   ]
  },
  {
   "cell_type": "code",
   "execution_count": 1,
   "metadata": {},
   "outputs": [
    {
     "name": "stdout",
     "output_type": "stream",
     "text": [
      "True\n"
     ]
    }
   ],
   "source": [
    "def binary_fixed_point_to_decimal(x, m=8, n=8):\n",
    "    \"\"\"\n",
    "    x - binary string of size 1 + m + n\n",
    "    m - size of an integer part\n",
    "    n - sze of a fractional part\n",
    "    \"\"\"\n",
    "    sign_part, integer_part, fractional_part = x[0], x[1:m+1], x[m+1:m+n+1]\n",
    "    sign_value = (-1) ** int(sign_part)\n",
    "    integer_value = sum([\n",
    "        int(v) * 2 ** i\n",
    "        for i, v in enumerate(integer_part[::-1])\n",
    "    ])\n",
    "    fractional_value = sum([\n",
    "        int(v) * 2 ** -(i + 1)\n",
    "        for i, v in enumerate(fractional_part)\n",
    "    ])\n",
    "    return sign_value * (integer_value + fractional_value)\n",
    "\n",
    "m, n = 8, 8\n",
    "x = '00000010100100000'\n",
    "print(binary_fixed_point_to_decimal(x, m, n) == 5.125)"
   ]
  },
  {
   "cell_type": "code",
   "execution_count": 2,
   "metadata": {},
   "outputs": [
    {
     "name": "stdout",
     "output_type": "stream",
     "text": [
      "True\n"
     ]
    }
   ],
   "source": [
    "x = '11111111111111111' # Insert a string corresponding to a minimal possible value\n",
    "print(binary_fixed_point_to_decimal(x, m, n) == -(2 ** m - 2 ** (-n)))"
   ]
  },
  {
   "cell_type": "code",
   "execution_count": 3,
   "metadata": {},
   "outputs": [
    {
     "name": "stdout",
     "output_type": "stream",
     "text": [
      "True\n"
     ]
    }
   ],
   "source": [
    "x = '01111111111111111' # Insert a string corresponding to a maximal possible value\n",
    "print(binary_fixed_point_to_decimal(x, m, n) == 2 ** m - 2 ** (-n))"
   ]
  },
  {
   "cell_type": "code",
   "execution_count": 4,
   "metadata": {},
   "outputs": [
    {
     "name": "stdout",
     "output_type": "stream",
     "text": [
      "True\n"
     ]
    }
   ],
   "source": [
    "x = '00000000000000001' # Insert a string corresponding to an absolute minimal but nonzero possible value\n",
    "print(binary_fixed_point_to_decimal(x, m, n) == 2 ** (-n))"
   ]
  },
  {
   "cell_type": "markdown",
   "metadata": {},
   "source": [
    "Основной недостаток чисел с фиксированной точкой — ограниченный диапазон и разрешение. Например, для 8-битного формата:\n",
    "- диапазон $[-128, 127]$\n",
    "- разрешение $2^{-7} = 0.0078125$\n",
    "\n",
    "Это означает, что для представления очень больших или очень маленьких чисел потребуется больше бит.\n",
    "\n",
    "Для 32-битного формата:\n",
    "- диапазон $[-2^{31}, 2^{31} - 1]$\n",
    "- разрешение $2^{-23} \\approx 1.192 \\times 10^{-7}$\n",
    "\n",
    "Это означает, что для представления очень больших или очень маленьких чисел потребуется больше бит."
   ]
  },
  {
   "cell_type": "markdown",
   "metadata": {},
   "source": [
    "## Числа с плавающей точкой\n",
    "Числа с плавающей точкой состоят из 1-битного знака, $m$-битного экспоненты и $n$-битного мантиссы:\n",
    "\n",
    "$$\n",
    "\\text{decimal} = \n",
    "(-1)^{\\text{sign}} \\times \n",
    "base^{\\Big(\\sum_{i=0}^{m-1} \\text{exponent}[i] \\cdot base^{m-1-i} - (2^{m-1} - 1)\\Big)}\n",
    "\\times\n",
    "\\Big(1 + \\sum_{i=0}^{n-1} \\text{mantissa}[i] \\cdot base^{-i-1}\\Big)\n",
    "$$\n",
    "\n",
    "- значения экспоненты, равные 0 и 1, зарезервированы для специальных чисел: NaN, бесконечность и т.д.\n",
    "- общее количество бит $m + n + 1$"
   ]
  },
  {
   "cell_type": "markdown",
   "metadata": {},
   "source": [
    "Half (float16) vs Single (float32) vs and Double (float32) Точность\n",
    "\n",
    "- float16 - 16 bit total: 1 for a sign, $m = 5$ for exponent and $n = 10$ for mantissa\n",
    "- float32 - 32 bits total: 1 for a sign, $m = 8$ for exponent and $n = 23$ for mantissa\n",
    "- float64 - 64 bits total: 1 for a sign, $m = 11$ for exponent and $n = 52$ for mantissa"
   ]
  },
  {
   "cell_type": "code",
   "execution_count": 8,
   "metadata": {},
   "outputs": [
    {
     "name": "stdout",
     "output_type": "stream",
     "text": [
      "True\n"
     ]
    }
   ],
   "source": [
    "def binary_floating_point_to_decimal(x, m=8, n=23):\n",
    "    \"\"\"\n",
    "    x - binary string of size 1 + m + n\n",
    "    m - size of an exponent part\n",
    "    n - sze of a mantissa part\n",
    "    \"\"\"\n",
    "    sign_part, exponent_part, mantissa_part = x[0], x[1:m+1], x[m+1:n+m+1]\n",
    "    sign_value = (-1) ** int(sign_part)\n",
    "\n",
    "    mantissa_value = 1\n",
    "    for i, v in enumerate(mantissa_part):\n",
    "        mantissa_value += int(v) * (2 ** -(i + 1))\n",
    "\n",
    "    exponent_value = 0\n",
    "    for i, v in enumerate(exponent_part):\n",
    "        exponent_value += int(v) * 2 ** i\n",
    "    exponent_value -= (2 ** (m - 1) - 1)\n",
    "        \n",
    "    return sign_value * (2 ** exponent_value) * mantissa_value\n",
    "\n",
    "m, n = 8, 23\n",
    "x = '01000000101001000000000000000000'\n",
    "print(binary_floating_point_to_decimal(x, m, n) == 5.125)"
   ]
  },
  {
   "cell_type": "markdown",
   "metadata": {},
   "source": [
    "## Ошибки округления"
   ]
  },
  {
   "cell_type": "markdown",
   "metadata": {},
   "source": [
    "Из-за того, что представления с плавающей точкой являются лишь приближениями к действительным числам, могут возникать ошибки округления.\n",
    "\n",
    "Например, рассмотрим простой алгоритм суммирования, где $x_i$ — числа с плавающей точкой:\n",
    "\n",
    "$$\n",
    "f(x) = x_1 + x_2 + ... + x_n\n",
    "$$"
   ]
  },
  {
   "cell_type": "markdown",
   "metadata": {},
   "source": [
    "Реализуйте простой алгоритм из лекции (добавляя по одному):\n",
    "\n",
    "[!] Установите $n$ равным 1000 и все $x_i$ равными 0.1."
   ]
  },
  {
   "cell_type": "code",
   "execution_count": 29,
   "metadata": {},
   "outputs": [
    {
     "name": "stdout",
     "output_type": "stream",
     "text": [
      "Expected result: 10000.0\n",
      "Actual result: 10000.000000018848\n"
     ]
    }
   ],
   "source": [
    "total = 0.0\n",
    "for _ in range(100000):\n",
    "    total += 0.1\n",
    "\n",
    "print(\"Expected result: 10000.0\")\n",
    "print(f\"Actual result:\", total)"
   ]
  },
  {
   "cell_type": "markdown",
   "metadata": {},
   "source": [
    "Реализуйте алгоритм Кахана из лекции и проверьте возникающую ошибку.\n",
    "\n",
    "[!] Установите $n$ равным 1000 и все $x_i$ равными 0.1."
   ]
  },
  {
   "cell_type": "code",
   "execution_count": 30,
   "metadata": {},
   "outputs": [
    {
     "name": "stdout",
     "output_type": "stream",
     "text": [
      "Expected result: 100.0\n",
      "Actual result: 100.0\n"
     ]
    }
   ],
   "source": [
    "s = 0\n",
    "c = 0\n",
    "for i in range(1000):\n",
    "    y = 0.1 - c\n",
    "    t = s + y\n",
    "    c = (t - s) - y\n",
    "    s = t\n",
    "\n",
    "print(\"Expected result: 100.0\")\n",
    "print(f\"Actual result:\", s)"
   ]
  },
  {
   "cell_type": "markdown",
   "metadata": {},
   "source": [
    "Объяснение: значение 0.1 не может быть точно представлено в двоичной системе, поэтому оно становится приближением. Когда это приближение добавляется по одному, малые ошибки округления накапливаются, что приводит к конечному результату, немного меньшему, чем 100.0."
   ]
  },
  {
   "cell_type": "markdown",
   "metadata": {},
   "source": [
    "## Векторы и векторные нормы\n",
    "В NLA мы обычно работаем не с числами, а с векторами, которые являются просто массивами чисел размера $n$."
   ]
  },
  {
   "cell_type": "code",
   "execution_count": 11,
   "metadata": {},
   "outputs": [
    {
     "name": "stdout",
     "output_type": "stream",
     "text": [
      "Size of the x vector is 5\n",
      "Type of the vector elements is <class 'numpy.int64'>\n"
     ]
    }
   ],
   "source": [
    "import numpy as np\n",
    "\n",
    "x = np.array([1, 2, 3, 4, 5])\n",
    "\n",
    "print(f'Size of the x vector is {len(x)}')\n",
    "print(f'Type of the vector elements is {type(x[0])}')"
   ]
  },
  {
   "cell_type": "markdown",
   "metadata": {},
   "source": [
    "Как видите, этот вектор содержит только целые значения. Теперь преобразуйте их в тип float32."
   ]
  },
  {
   "cell_type": "code",
   "execution_count": 12,
   "metadata": {},
   "outputs": [
    {
     "name": "stdout",
     "output_type": "stream",
     "text": [
      "Type of the vector elements is <class 'numpy.float32'>\n"
     ]
    }
   ],
   "source": [
    "x = x.astype(np.float32)\n",
    "print(f'Type of the vector elements is {type(x[0])}')"
   ]
  },
  {
   "cell_type": "markdown",
   "metadata": {},
   "source": [
    "Для измерения малости вектора используется его **норма** $\\|x\\|$.\n",
    "\n",
    "Самый важный класс норм — $p$-нормы:\n",
    "$$\n",
    "\\|x\\|_p = \\Big(\\sum_{i=1}^n |x_i|^p\\Big)^{1/p}\n",
    "$$\n",
    "Примеры $p$-норм:\n",
    "- Манхэттенское расстояние или $L_1$ норма - когда $p=1$\n",
    "- Евклидова норма или $L_2$ норма - когда $p=2$\n",
    "- Бесконечная норма, или норма Чебышева - когда $p=+\\infty$: $ \\|x\\|_{\\infty} = \\max_i | x_i|$\n",
    "  "
   ]
  },
  {
   "cell_type": "markdown",
   "metadata": {},
   "source": [
    "Посчитайте нормы для вектора $x$:\n",
    "\n",
    "Подсказка: используйте `np.linalg.norm`"
   ]
  },
  {
   "cell_type": "code",
   "execution_count": 13,
   "metadata": {},
   "outputs": [
    {
     "name": "stdout",
     "output_type": "stream",
     "text": [
      "L1 norm: 15.0\n",
      "L2 norm: 7.4161983\n",
      "Chebyshev norm: 5.0\n"
     ]
    }
   ],
   "source": [
    "print('L1 norm:', np.linalg.norm(x, 1))\n",
    "print('L2 norm:', np.linalg.norm(x, 2))\n",
    "print('Chebyshev norm:', np.linalg.norm(x, np.inf))"
   ]
  },
  {
   "cell_type": "markdown",
   "metadata": {},
   "source": [
    "Единичный диск для $p$-нормы — это множество точек таких, что $\\|x\\|_p = 1$.\n",
    "\n",
    "Визуализируйте единичный диск для следующих $p$-норм: $p \\in (0.25, 0.75, 1.0, 2.0, 5.0, \\infty)$\n",
    "\n",
    "Подсказка: $y = \\pm (1 - |x|^p)^{1/p}$"
   ]
  },
  {
   "cell_type": "code",
   "execution_count": 33,
   "metadata": {},
   "outputs": [
    {
     "data": {
      "image/png": "[encoded data removed]",
      "text/plain": [
       "<Figure size 400x400 with 1 Axes>"
      ]
     },
     "metadata": {},
     "output_type": "display_data"
    }
   ],
   "source": [
    "import numpy as np\n",
    "import matplotlib.pyplot as plt\n",
    "\n",
    "def unit_disk(p):\n",
    "    x = np.linspace(-1, 1, 201)\n",
    "    y = (1 - np.abs(x) ** p) ** (1 / p)\n",
    "    x = np.hstack([x, x[1:][::-1], x[0]])\n",
    "    y = np.hstack([y, -y[1:][::-1], y[0]])\n",
    "    return x, y\n",
    "\n",
    "plt.figure(figsize=(4, 4))\n",
    "plt.axis('equal')\n",
    "for p in (0.25, 0.5, 1.0, 2.0, 5.0, np.inf):\n",
    "    x, y = unit_disk(p)\n",
    "    plt.plot(x, y, label=f'$p$={p}')\n",
    "plt.legend(loc=1)\n",
    "plt.show()"
   ]
  },
  {
   "cell_type": "markdown",
   "metadata": {},
   "source": [
    "![](p_balls.svg)"
   ]
  },
  {
   "cell_type": "markdown",
   "metadata": {},
   "source": [
    "## Устойчивость\n",
    "Предположим, у нас есть вектор $x$, функция $f(x)$, и алгоритм $\\text{alg}(x)$ для приближения функции. Тогда алгоритм называется **устойчивым в прямом направлении**, если для некоторого малого $\\varepsilon$\n",
    "\n",
    "$$\n",
    "\\|\\text{alg}(x) - f(x)\\|  \\leq \\varepsilon\n",
    "$$"
   ]
  },
  {
   "cell_type": "markdown",
   "metadata": {},
   "source": [
    "[Задание] Проверьте суммирующие алгоритмы, упомянутые ранее (простой и Кахана) на устойчивость в прямом направлении. \n",
    "\n",
    "Пусть $x_i = 0.1$ и $n = 100$.\n",
    "$$\n",
    "f(x) = \\sum_{i=1}^{100} x_i, \\;\\;\n",
    "x_i = 0.1\n",
    "$$\n",
    "Запишите ошибку, возникающую в каждом шаге суммирования: \n",
    "$$\n",
    "\\text{error}[i] = |0.1 \\cdot i - \\text{alg}(x)|\n",
    "$$"
   ]
  },
  {
   "cell_type": "code",
   "execution_count": 31,
   "metadata": {},
   "outputs": [
    {
     "data": {
      "image/png": "[encoded data removed]",
      "text/plain": [
       "<Figure size 800x400 with 1 Axes>"
      ]
     },
     "metadata": {},
     "output_type": "display_data"
    }
   ],
   "source": [
    "from matplotlib import pyplot as plt\n",
    "N = 10000\n",
    "\n",
    "# Naive\n",
    "total = 0.0\n",
    "error_naive = []\n",
    "for i in range(N):\n",
    "    total += 0.1\n",
    "    refer = (i + 1) / 10\n",
    "    error_naive.append(np.abs(refer - total))\n",
    "\n",
    "# Kahan\n",
    "s = 0\n",
    "c = 0\n",
    "error_kahan = []\n",
    "for i in range(N):\n",
    "    y = 0.1 - c\n",
    "    t = s + y\n",
    "    c = (t - s) - y\n",
    "    s = t\n",
    "    error_kahan.append(np.abs(c))\n",
    "\n",
    "plt.figure(figsize=(8, 4))\n",
    "plt.title(r'Forward stability of summation algorithms $\\varepsilon(n)$')\n",
    "plt.plot(error_naive, label='Naive')\n",
    "plt.plot(error_kahan, label='Kahan')\n",
    "plt.ylabel(r'$\\varepsilon$', rotation=0)\n",
    "plt.xlabel(r'$n$')\n",
    "plt.legend()\n",
    "plt.show()"
   ]
  },
  {
   "cell_type": "markdown",
   "metadata": {},
   "source": [
    "What do you see?"
   ]
  },
  {
   "cell_type": "markdown",
   "metadata": {},
   "source": [
    "## Простая, но очень важная идея умножения матриц\n",
    "Предположим, у вас есть следующее выражение:\n",
    "$$\n",
    "b = A_1 A_2 A_3 x,\n",
    "$$\n",
    "где $A_1, A_2, A_3 \\in \\mathbb{R}^{3 \\times 3}$ - случайные квадратные плотные матрицы, а $x \\in \\mathbb{R}^n$ - вектор. Вам нужно вычислить $b$.\n",
    "Какой способ лучше всего использовать?\n",
    "\n",
    "$A_1 A_2 A_3 x$ (слева направо)\n",
    "$\\left(A_1 \\left(A_2 \\left(A_3 x\\right)\\right)\\right)$ (справа налево)\n",
    "Не имеет значения\n",
    "Результаты первых двух вариантов не будут одинаковыми."
   ]
  },
  {
   "cell_type": "code",
   "execution_count": null,
   "metadata": {},
   "outputs": [
    {
     "name": "stdout",
     "output_type": "stream",
     "text": [
      "💎 From left to right\n",
      "2.23 ms ± 636 µs per loop (mean ± std. dev. of 7 runs, 100 loops each)\n",
      "💎 From right to left\n",
      "56.3 µs ± 3.95 µs per loop (mean ± std. dev. of 7 runs, 10,000 loops each)\n"
     ]
    }
   ],
   "source": [
    "import numpy as np\n",
    "\n",
    "# Function to create a random square matrix of size n\n",
    "def create_random_matrix(n):\n",
    "    return np.random.rand(n, n)\n",
    "\n",
    "# Define the size of the matrices\n",
    "n = 200\n",
    "\n",
    "# Create a list of 3 random matrices\n",
    "matrices = [create_random_matrix(n) for _ in range(3)]\n",
    "y = np.random.rand(n, 1)  # y is a vector\n",
    "\n",
    "# Function to compute the expression in a given order\n",
    "def compute_expression(matrices, y, reverse=False):\n",
    "    result = y\n",
    "    if reverse:\n",
    "        # Start with y and multiply with each matrix from right to left\n",
    "        for matrix in reversed(matrices):\n",
    "            result = matrix @ result\n",
    "    else:\n",
    "        # Start with the first matrix and multiply each next matrix from left to right\n",
    "        result = matrices[0]\n",
    "        for matrix in matrices[1:]:\n",
    "            result = result @ matrix\n",
    "        # Finally multiply with y\n",
    "        result = result @ y\n",
    "    return result\n",
    "\n",
    "# Time the expression from left to right\n",
    "print(\"💎 From left to right\")\n",
    "%timeit compute_expression(matrices, y)\n",
    "\n",
    "# Time the expression from right to left\n",
    "print(\"💎 From right to left\")\n",
    "%timeit compute_expression(matrices, y, reverse=True)"
   ]
  }
 ],
 "metadata": {
  "kernelspec": {
   "display_name": "benchmarx",
   "language": "python",
   "name": "python3"
  },
  "language_info": {
   "codemirror_mode": {
    "name": "ipython",
    "version": 3
   },
   "file_extension": ".py",
   "mimetype": "text/x-python",
   "name": "python",
   "nbconvert_exporter": "python",
   "pygments_lexer": "ipython3",
   "version": "3.9.17"
  }
 },
 "nbformat": 4,
 "nbformat_minor": 2
}
