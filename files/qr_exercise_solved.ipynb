{
 "cells": [
  {
   "cell_type": "markdown",
   "metadata": {},
   "source": [
    "# Modified Gram-Schmidt"
   ]
  },
  {
   "cell_type": "code",
   "execution_count": 10,
   "metadata": {},
   "outputs": [
    {
     "name": "stdout",
     "output_type": "stream",
     "text": [
      "-2.7671064037337878e-08\n",
      "-6.591949208711867e-17\n"
     ]
    }
   ],
   "source": [
    "import numpy as np\n",
    "\n",
    "n = 100\n",
    "a = np.random.rand(n)\n",
    "b = a + 1e-9 * np.random.randn(n)\n",
    "\n",
    "# Сначала нормируем вектор a\n",
    "a = a / np.linalg.norm(a)\n",
    "\n",
    "# Убираем из b проекцию на a (попытка сделать c ортогональным к a)\n",
    "c = b - np.dot(b, a) * a\n",
    "c = c / np.linalg.norm(c)\n",
    "\n",
    "# Скалярное произведение c и a пока не идеально мало:\n",
    "print(np.dot(c, a))\n",
    "\n",
    "# Делаем повторную ортогонализацию:\n",
    "# Снова вычитаем проекцию c на a\n",
    "c = c - np.dot(c, a) * a\n",
    "c = c / np.linalg.norm(c)\n",
    "\n",
    "# Теперь скалярное произведение гораздо меньше!\n",
    "print(np.dot(c, a))"
   ]
  },
  {
   "cell_type": "markdown",
   "metadata": {},
   "source": [
    "## Упражнение\n",
    "\n",
    "В этом упражнении мы реализуем классический и модифицированный процессы Грама-Шмидта для построения QR-разложения матрицы.\n",
    "\n",
    "Вход: матрица $A \\in \\mathbb{R}^{n \\times n}$\n",
    "Выход: матрицы $Q$ и $R$ такие, что $A = QR$, при этом $Q$ ортогональная, а $R$ верхнетреугольная. Мы сфокусируемся на матрице $Q$, потому что имея её, мы можем легко получить $R$ по формуле $R = Q^T A$.\n",
    "\n",
    "* **Численная неустойчивость**. Классический процесс Грама-Шмидта (CGS) может приводить к большим погрешностям при вычислении ортонормированной системы векторов, особенно при плохой обусловленности исходной матрицы. В машинной арифметике возникает **потеря ортогональности**.\n",
    "\n",
    "* **Модифицированный процесс (MGS)**. Идея заключается в том, чтобы последовательно вычитать проекции на уже построенные ортонормированные вектора, шаг за шагом. Формально, если $q_1, \\dots, q_{k-1}$ уже построены, то для $k$-го вектора:\n",
    "   $$ \n",
    "   q_k := a_k, \\quad\n",
    "   q_k := q_k - (q_k,\\,q_1)\\,q_1, \\quad\n",
    "   q_k := q_k - (q_k,\\,q_2)\\,q_2, \\quad \\dots\n",
    "   $$\n",
    "   В точной арифметике это эквивалентно классическому процессу, но в машинной арифметике MGS, как правило, даёт более устойчивое решение.\n",
    "\n",
    "* **Сложность**. Оба алгоритма имеют асимптотическую сложность порядка $O(n^2 m)$, где $m \\times n$ — размерность исходной матрицы. Для квадратной матрицы $n \\times n$ сложность $O(n^3)$.\n",
    "\n",
    "* **QR-разложение**. По готовой ортонормированной матрице $Q$ можно найти верхнетреугольную $R$, например, умножив $Q^T A$. Тогда $A = Q R$."
   ]
  },
  {
   "cell_type": "code",
   "execution_count": 1,
   "metadata": {},
   "outputs": [
    {
     "name": "stdout",
     "output_type": "stream",
     "text": [
      "Абсолютная ошибка (CGS) = 3.4653383412436143\n",
      "Абсолютная ошибка (MGS) = 8.763548618214397e-05\n",
      "Относительная ошибка (CGS) = 1.095836202143963\n",
      "Относительная ошибка (MGS) = 2.7712774019178854e-05\n"
     ]
    }
   ],
   "source": [
    "import numpy as np\n",
    "\n",
    "def hilbert_matrix(n):\n",
    "    H = np.zeros((n, n), dtype=float)\n",
    "    for i in range(n):\n",
    "        for j in range(n):\n",
    "            H[i, j] = 1.0 / (i + j + 1)\n",
    "    return H\n",
    "\n",
    "def generate_matrix(n, type='random'):\n",
    "    if type == 'random':\n",
    "        A = np.random.randn(n, n)\n",
    "    elif type == 'hilbert':\n",
    "        A = hilbert_matrix(n)\n",
    "    return A\n",
    "\n",
    "def classical_gs(A):\n",
    "    m, n = A.shape\n",
    "    Q = np.zeros((m, n), dtype=float)\n",
    "    for k in range(n):\n",
    "        # Берём исходный столбец\n",
    "        v = A[:, k].copy()\n",
    "        \n",
    "        # Считаем все скалярные произведения \\alpha_j = (q_j, v) заранее\n",
    "        # (здесь q_j уже ортонормированы из предыдущих шагов)\n",
    "        alphas = np.array([np.dot(Q[:, j], v) for j in range(k)])\n",
    "        \n",
    "        # Вычитаем сумму \\sum_j \\alpha_j * q_j\n",
    "        for j in range(k):\n",
    "            v -= alphas[j] * Q[:, j]\n",
    "        \n",
    "        # Нормируем\n",
    "        norm_v = np.linalg.norm(v)\n",
    "        Q[:, k] = v / norm_v\n",
    "    return Q\n",
    "\n",
    "def modified_gs(A):\n",
    "    m, n = A.shape\n",
    "    Q = np.zeros((m, n), dtype=float)\n",
    "    for k in range(n):\n",
    "        v = A[:, k].copy()\n",
    "        # В МОДИФИЦИРОВАННОМ алгоритме на каждом шаге j\n",
    "        # берём текущее \"свежее\" v\n",
    "        for j in range(k):\n",
    "            alpha = np.dot(Q[:, j], v)\n",
    "            v -= alpha * Q[:, j]\n",
    "        Q[:, k] = v / np.linalg.norm(v)\n",
    "    return Q\n",
    "\n",
    "\n",
    "# Пример: проверяем ортогонализацию на случайной матрице\n",
    "n = 10\n",
    "A = generate_matrix(n, type='hilbert')\n",
    "\n",
    "Q_cgs = classical_gs(A)\n",
    "Q_mgs = modified_gs(A)\n",
    "\n",
    "# Оцениваем \"ошибку ортогональности\" как ||Q^T Q - I|| по Фробениусу\n",
    "err_cgs = np.linalg.norm(Q_cgs.T @ Q_cgs - np.eye(n), ord='fro')\n",
    "err_mgs = np.linalg.norm(Q_mgs.T @ Q_mgs - np.eye(n), ord='fro')\n",
    "\n",
    "# Фробениусова норма единичной матрицы I (это sqrt(n))\n",
    "norm_I_fro = np.linalg.norm(np.eye(n), ord='fro')\n",
    "\n",
    "rel_cgs_fro = err_cgs / norm_I_fro\n",
    "rel_mgs_fro = err_mgs / norm_I_fro\n",
    "\n",
    "print(\"Абсолютная ошибка (CGS) =\", err_cgs)\n",
    "print(\"Абсолютная ошибка (MGS) =\", err_mgs)\n",
    "print(\"Относительная ошибка (CGS) =\", rel_cgs_fro)\n",
    "print(\"Относительная ошибка (MGS) =\", rel_mgs_fro)"
   ]
  }
 ],
 "metadata": {
  "kernelspec": {
   "display_name": "benchmarx",
   "language": "python",
   "name": "python3"
  },
  "language_info": {
   "codemirror_mode": {
    "name": "ipython",
    "version": 3
   },
   "file_extension": ".py",
   "mimetype": "text/x-python",
   "name": "python",
   "nbconvert_exporter": "python",
   "pygments_lexer": "ipython3",
   "version": "3.9.17"
  }
 },
 "nbformat": 4,
 "nbformat_minor": 2
}
