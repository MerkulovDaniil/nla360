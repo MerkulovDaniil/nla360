{
 "cells": [
  {
   "cell_type": "markdown",
   "metadata": {
    "slideshow": {
     "slide_type": "slide"
    }
   },
   "source": [
    "# Лекция 8: Рандомизированная линейная алгебра"
   ]
  },
  {
   "cell_type": "markdown",
   "metadata": {
    "slideshow": {
     "slide_type": "slide"
    }
   },
   "source": [
    "## Краткий обзор предыдущей лекции\n",
    "\n",
    "\n",
    "SVD и алгоритмы для его вычисления: разделяй-и-властвуй, QR, Якоби, бисекция."
   ]
  },
  {
   "cell_type": "markdown",
   "metadata": {
    "slideshow": {
     "slide_type": "slide"
    }
   },
   "source": [
    "## Сегодняшняя лекция\n",
    "\n",
    "Сегодня мы кратко погрузимся в рандомизированную линейную алгебру.\n",
    "\n",
    "Хорошим источником для чтения является (https://arxiv.org/pdf/2002.01387.pdf)"
   ]
  },
  {
   "cell_type": "markdown",
   "metadata": {
    "slideshow": {
     "slide_type": "slide"
    }
   },
   "source": [
    "## Алгоритмы бывают детерминированными и рандомизированными\n",
    "\n",
    "Все вычисления, которые мы рассматривали до сегодняшнего дня, были **детерминированными**.\n",
    "\n",
    "Однако снижение сложности может быть достигнуто с помощью рандомизированных (стохастических) вычислений.\n",
    "\n",
    "Пример: рандомизированное умножение матриц.\n"
   ]
  },
  {
   "cell_type": "markdown",
   "metadata": {
    "slideshow": {
     "slide_type": "slide"
    }
   },
   "source": [
    "## Оказывается, мы можем проверить, если $ A B = C$ за $\\mathcal{O}(n^2)$ операций.\n",
    "\n",
    "Дано: $A, B, C$ — матрицы $n \\times n$.\n",
    "\n",
    "Задача: проверить, если $ A B = C$.\n",
    "\n",
    "Как?"
   ]
  },
  {
   "cell_type": "markdown",
   "metadata": {
    "slideshow": {
     "slide_type": "slide"
    }
   },
   "source": [
    "## Ответ дает [Алгоритм Фрейвальдса](https://en.wikipedia.org/wiki/Freivalds%27_algorithm)\n",
    "\n",
    "В его основе -- проверка на равенство матриц путем умножения на случайные векторы!\n",
    "\n",
    "Сложность составляет $k n^2$, вероятность ошибки равна $\\frac{1}{2^k}$.\n"
   ]
  },
  {
   "cell_type": "markdown",
   "metadata": {
    "slideshow": {
     "slide_type": "slide"
    }
   },
   "source": [
    "## А что мы можем сделать с умножением матриц?\n",
    "\n",
    "Но можем ли мы умножать матрицы быстрее, используя идеи рандомизации?"
   ]
  },
  {
   "cell_type": "markdown",
   "metadata": {
    "slideshow": {
     "slide_type": "slide"
    }
   },
   "source": [
    "## Можно построить быстрое, но приближенное умножение матриц\n",
    "\n",
    "- Мы знаем, что умножение матриц $AB$ стоит $O(mnp)$ для матриц размеров $m \\times p$ и $p \\times n$\n",
    "- Мы можем построить аппроксимацию этого произведения, выбирая строки и столбцы множителей\n",
    "\n",
    "**Вопрос:** как их выбирать?\n",
    "\n",
    "**Ответ:** генерировать вероятности из их норм!\n",
    "\n",
    "- Итак, окончательное выражение аппроксимации\n",
    "\n",
    "$$ AB \\approx \\sum_{t=1}^k \\frac{1}{kp_{i_t}} A^{(i_t)} B_{(i_t)}, $$\n",
    "\n",
    "где $A^{(i_t)}$ - столбец $A$, а $B_{(i_t)}$ - строка $B$\n",
    "\n",
    "- Снижение сложности с $O(mnp)$ до $O(mnk)$"
   ]
  },
  {
   "cell_type": "code",
   "execution_count": 18,
   "metadata": {
    "slideshow": {
     "slide_type": "slide"
    }
   },
   "outputs": [
    {
     "name": "stdout",
     "output_type": "stream",
     "text": [
      "0.47962255089465017\n",
      "1.8999756830536187\n"
     ]
    }
   ],
   "source": [
    "import numpy as np\n",
    "\n",
    "n = 5\n",
    "p = 10000\n",
    "m = 5\n",
    "A = np.random.randn(n, p)\n",
    "B = np.random.randn(p, m)\n",
    "C = A @ B\n",
    "\n",
    "def randomized_matmul(A, B, k):\n",
    "    p1 = A.shape[1]\n",
    "    p = np.linalg.norm(A, axis=0) * np.linalg.norm(B, axis=1)\n",
    "    p = p\n",
    "    p = p.ravel() / p.sum()\n",
    "    n = A.shape[1]\n",
    "    p = np.ones(p1)\n",
    "    p = p/p.sum()\n",
    "    idx = np.random.choice(np.arange(n), (k,), False, p)\n",
    "    #d = 1 / np.sqrt(k * p[idx])\n",
    "    d = 1.0/np.sqrt(k)#np.sqrt(p1)/np.sqrt(k*p[idx])\n",
    "    A_sketched = A[:, idx]*np.sqrt(p1)/np.sqrt(k)#* d[None, :]\n",
    "    B_sketched = B[idx, :]*np.sqrt(p1)/np.sqrt(k) #* d[:, None]\n",
    "    C = A_sketched @ B_sketched\n",
    "    #print(d)\n",
    "    return C\n",
    "\n",
    "def randomized_matmul_topk(A, B, K):\n",
    "    \n",
    "    norm_mult = np.linalg.norm(A,axis=0) * np.linalg.norm(B,axis=1)\n",
    "    top_k_idx = np.sort(np.argsort(norm_mult)[::-1][:K])\n",
    "    \n",
    "    A_top_k_cols = A[:, top_k_idx]\n",
    "    B_top_k_rows = B[top_k_idx, :]\n",
    "\n",
    "    C_approx = A_top_k_cols @ B_top_k_rows\n",
    "    return C_approx\n",
    "\n",
    "num_items = 4000\n",
    "C_appr_samples = randomized_matmul(A, B, num_items)\n",
    "#print(C_appr_samples, 'appr')\n",
    "#print(C, 'true')\n",
    "C_appr_topk = randomized_matmul_topk(A, B, num_items)\n",
    "print(np.linalg.norm(C_appr_topk - C, 2) / np.linalg.norm(C, 2))\n",
    "print(np.linalg.norm(C_appr_samples - C, 2) / np.linalg.norm(C, 2))"
   ]
  },
  {
   "cell_type": "markdown",
   "metadata": {
    "slideshow": {
     "slide_type": "slide"
    }
   },
   "source": [
    "## Оценка ошибки аппроксимации потребует знания теории вероятностей\n",
    "\n",
    "$$ \\mathbb{E} [\\|AB - CR\\|^2_F] = \\frac{1}{k} \\left(\\sum_{i=1}^n \\| A^{(i)} \\|_2 \\| B_{(i)} \\|_2\\right)^2   - \\frac{1}{k}\\|AB\\|_F^2 $$ \n",
    "\n",
    "- Возможны другие вероятности выборки\n",
    "- Используйте аппроксимацию\n",
    "$$ AB \\approx ASD(SD)^\\top B  = ACC^{\\top}B$$\n",
    "можно заменить выборку и масштабирование другой матрицей, которая\n",
    "\n",
    "    - уменьшает размерность\n",
    "    - достаточно точно аппроксимирует\n",
    "\n",
    "**Вопрос:** какие матрицы можно использовать?"
   ]
  },
  {
   "cell_type": "markdown",
   "metadata": {
    "slideshow": {
     "slide_type": "slide"
    }
   },
   "source": [
    "## След матрицы тоже можно оценить\n",
    "\n",
    "Многие задачи могут быть записаны в форме оценки следа:\n",
    "\n",
    "$$\\mathrm{Tr}(A) = \\sum_{i} A_{ii}.$$\n",
    "\n",
    "Можем ли мы вычислить след матрицы, если у нас есть доступ только к произведениям матрицы на вектор?"
   ]
  },
  {
   "cell_type": "markdown",
   "metadata": {
    "slideshow": {
     "slide_type": "slide"
    }
   },
   "source": [
    "## Есть две оценки -- одна с меньшей дисперсией, другая с большей\n",
    "\n",
    "Рандомизированные оценщики следа могут быть вычислены по следующей формуле:\n",
    "\n",
    "$$\\mathrm{Tr}(A) = E_w w^* A w, \\quad E ww^* = 1$$ \n",
    "\n",
    "Для выборки мы берем $k$ независимых образцов $w_k$, получаем случайную величину $X_k$ и усредняем результаты.\n",
    "\n",
    "**Оценщик следа Жирара**: Выборка $w \\sim N(0, 1)$\n",
    "\n",
    "Тогда, $\\mathrm{Var} X_k = \\frac{2}{k} \\sum_{i, j=1}^n \\vert A_{ij} \\vert^2 = \\frac{2}{k} \\Vert A \\Vert^2_F$\n",
    "\n",
    "**Оценщик следа Хатчинсона**: Пусть $w$ будет случайным вектором Радемахера (т.е. элементы выбираются из равномерного распределения.\n",
    "\n",
    "Он дает оценщик с минимальной дисперсией."
   ]
  },
  {
   "cell_type": "markdown",
   "metadata": {
    "slideshow": {
     "slide_type": "slide"
    }
   },
   "source": [
    "## Можно строить более тонкие оценки на основе внутренней размерности\n",
    "\n",
    "Дисперсия следа может быть оценена в терминах **внутренней размерности** (intdim) для симметричных положительно определенных матриц.\n",
    "\n",
    "Она определяется как $\\mathrm{intdim}(A) = \\frac{\\mathrm{Tr}(A)}{\\Vert A \\Vert_F}$. Легко показать, что\n",
    "\n",
    "$$1 \\leq \\mathrm{intdim}(A) \\leq ?.$$\n",
    "\n",
    "Тогда вероятность большого отклонения может быть оценена как\n",
    "\n",
    "$$P( \\vert \\overline{X}_k - \\mathrm{Tr}(A) \\vert \\geq t \\mathrm{Tr}(A)) \\leq \\frac{2}{k \\mathrm{intdim}(A) t^2}$$"
   ]
  },
  {
   "cell_type": "markdown",
   "metadata": {
    "slideshow": {
     "slide_type": "slide"
    }
   },
   "source": [
    "## Лучшие оценки для симметричных положительно определенных матриц\n",
    "\n",
    "Если $A$ - симметричная положительно определенная матрица, то\n",
    "\n",
    "$$P(\\overline{X}_k \\geq \\tau \\mathrm{Tr}(A) ) \\leq \\exp\\left(-1/2 \\mathrm{intdim}(A) (\\sqrt{\\tau} - 1)^2)\\right) $$\n",
    "\n",
    "Аналогичное неравенство справедливо и для нижней границы.\n",
    "\n",
    "Эта оценка намного лучше.\n",
    "\n",
    "Интересное (и часто упускаемое из виду) свойство стохастического оценщика заключается в том, что он поставляется со стохастической оценкой дисперсии (из выборки!)\n",
    "\n",
    "Предупреждение: нам все равно нужно $\\varepsilon^{-2}$ выборок, чтобы достичь точности $\\varepsilon$ при использовании независимых выборок."
   ]
  },
  {
   "cell_type": "markdown",
   "metadata": {
    "slideshow": {
     "slide_type": "slide"
    }
   },
   "source": [
    "### Пример результата, где применялось -- надо читать исходную статью ([original paper](https://openreview.net/pdf?id=HyebplHYwB))\n",
    "\n",
    "<img src=\"./gw_matexp.png\">"
   ]
  },
  {
   "cell_type": "markdown",
   "metadata": {
    "slideshow": {
     "slide_type": "slide"
    }
   },
   "source": [
    "## Где еще помогают стохастические методы?\n",
    "\n",
    "- SVD\n",
    "- Линейные системы\n"
   ]
  },
  {
   "cell_type": "markdown",
   "metadata": {
    "slideshow": {
     "slide_type": "slide"
    }
   },
   "source": [
    "## Рандомизированный SVD ([Halko et al, 2011](https://epubs.siam.org/doi/pdf/10.1137/090771806?casa_token=isi3yX3QdPEAAAAA:j-7Qk87vS0kjKqGMLYeX3xg4QxqqyM8s4wn-XGX-SLOS2BRChFDRTPX-x9Hf7ltfuZYg9xsA0zksw1U))\n",
    "\n",
    "- Напоминание о постановке задачи\n",
    "\n",
    "$$ A \\approx U\\Sigma V^\\top, $$\n",
    "\n",
    "где $A$ имеет размер $m \\times n$, $U$ имеет размер $m \\times k$ и $V$ имеет размер $n \\times k$.\n",
    "\n",
    "- Мы уже знаем, что сложность аппроксимации ранга $k$ составляет $O(mnk)$\n",
    "- Как мы можем уменьшить эту сложность?"
   ]
  },
  {
   "cell_type": "markdown",
   "metadata": {
    "slideshow": {
     "slide_type": "slide"
    }
   },
   "source": [
    "- Предположим, что мы знаем ортогональную матрицу $Q$ размера $m \\times k$ такую, что \n",
    "\n",
    "$$A \\approx Q Q^{\\top}A $$\n",
    "\n",
    "- Другими словами, столбцы $Q$ представляют ортогональный базис в пространстве столбцов матрицы $A$\n",
    "- Тогда следующие детерминированные шаги могут дать факторы $U$, $\\Sigma$ и $V$, соответствующие SVD матрицы $A$\n",
    "    - Формируем матрицу $B = Q^{\\top}A$ размера $k \\times n$\n",
    "    - Вычисляем SVD малой матрицы $B = \\hat{U}\\Sigma V^{\\top}$\n",
    "    - Обновляем левые сингулярные векторы $U = Q\\hat{U}$\n",
    "    \n",
    "- Если $k \\ll \\min(m, n)$, то эти шаги можно выполнить быстро\n",
    "- Если $Q$ образует точный базис в пространстве столбцов $A$, то $U$, $\\Sigma$ и $V$ также будут точными!\n",
    "- Итак, как составить матрицу $Q$?"
   ]
  },
  {
   "cell_type": "markdown",
   "metadata": {
    "slideshow": {
     "slide_type": "slide"
    }
   },
   "source": [
    "### Рандомизированная аппроксимация базиса в пространстве столбцов $A$\n",
    "\n",
    "- Основной подход\n",
    "    - Сгенерировать $k + p$ гауссовых векторов размера $m$ и сформировать матрицу $G$\n",
    "    - Вычислить $Y = AG$\n",
    "    - Вычислить QR-разложение $Y$ и использовать полученную матрицу $Q$ как аппроксимацию базиса\n",
    "- Параметр $p$ называется параметром **переизбыточности** и нужен для улучшения аппроксимации ведущих $k$ левых сингулярных векторов\n",
    "- Вычисление $Y$ может быть выполнено параллельно\n",
    "- Здесь нам нужна только функция умножения матрицы $A$ на вектор, а не её элементы в виде 2D массива - концепция черного ящика!\n",
    "- Вместо гауссовой случайной матрицы можно использовать более структурированную, но все еще случайную матрицу, которую можно быстро умножить на $A$"
   ]
  },
  {
   "cell_type": "code",
   "execution_count": 19,
   "metadata": {
    "slideshow": {
     "slide_type": "slide"
    }
   },
   "outputs": [
    {
     "name": "stdout",
     "output_type": "stream",
     "text": [
      "Error from randomized SVD 2.159802807908629e-11\n",
      "Error from exact SVD 1.3779850607705733e-11\n"
     ]
    },
    {
     "data": {
      "image/png": "[encoded data removed]",
      "text/plain": [
       "<Figure size 640x480 with 1 Axes>"
      ]
     },
     "metadata": {},
     "output_type": "display_data"
    }
   ],
   "source": [
    "import matplotlib.pyplot as plt\n",
    "import numpy as np\n",
    "\n",
    "n = 1000\n",
    "k = 100\n",
    "m = 200\n",
    "# Lowrank matrix\n",
    "A = np.random.randn(n, k)\n",
    "B = np.random.randn(k, m)\n",
    "A = A @ B\n",
    "\n",
    "# Random matrix\n",
    "# A = np.random.randn(n, m)\n",
    "\n",
    "def randomized_svd(A, rank, p):\n",
    "    m, n = A.shape\n",
    "    G = np.random.randn(n, rank + p)\n",
    "    Y = A @ G\n",
    "    Q, _ = np.linalg.qr(Y)\n",
    "    B = Q.T @ A\n",
    "    u, S, V = np.linalg.svd(B)\n",
    "    U = Q @ u\n",
    "    return U, S, V\n",
    "\n",
    "rank = 100\n",
    "p = 5\n",
    "U, S, V = randomized_svd(A, rank, p)\n",
    "print(\"Error from randomized SVD\", np.linalg.norm(A - U[:, :rank] * S[None, :rank] @ V[:rank, :]))\n",
    "plt.semilogy(S[:rank] / S[0], label=\"Random SVD\")\n",
    "u, s, v = np.linalg.svd(A)\n",
    "print(\"Error from exact SVD\", np.linalg.norm(A - u[:, :rank] * s[None, :rank] @ v[:rank, :]))\n",
    "plt.semilogy(s[:rank] / s[0], label=\"Exact SVD\")\n",
    "plt.legend(fontsize=18)\n",
    "plt.xticks(fontsize=16)\n",
    "plt.yticks(fontsize=16)\n",
    "plt.ylabel(\"$\\sigma_i / \\sigma_0$\", fontsize=16)\n",
    "_ = plt.xlabel(\"Index of singular value\", fontsize=16)"
   ]
  },
  {
   "cell_type": "code",
   "execution_count": 2,
   "metadata": {
    "slideshow": {
     "slide_type": "slide"
    }
   },
   "outputs": [
    {
     "name": "stdout",
     "output_type": "stream",
     "text": [
      "60.5 ms ± 11.5 ms per loop (mean ± std. dev. of 7 runs, 10 loops each)\n",
      "8.07 ms ± 3.32 ms per loop (mean ± std. dev. of 7 runs, 100 loops each)\n",
      "3.09 ms ± 177 µs per loop (mean ± std. dev. of 7 runs, 100 loops each)\n"
     ]
    }
   ],
   "source": [
    "import scipy.sparse.linalg as spsplin\n",
    "# More details about Facebook package for computing randomized SVD is here: https://research.fb.com/blog/2014/09/fast-randomized-svd/ \n",
    "import fbpca\n",
    "n = 1000\n",
    "m = 200\n",
    "A = np.random.randn(n, m)\n",
    "k = 10\n",
    "p = 10\n",
    "%timeit spsplin.svds(A, k=k)\n",
    "%timeit randomized_svd(A, k, p)\n",
    "%timeit fbpca.pca(A, k=k, raw=False) "
   ]
  },
  {
   "cell_type": "markdown",
   "metadata": {
    "slideshow": {
     "slide_type": "slide"
    }
   },
   "source": [
    "### Можно получить нетривиальные оценки сходимости\n",
    "\n",
    "Усредненная ошибка представленного алгоритма, где $k$ - целевой ранг, а $p$ - параметр избыточной выборки, следующая\n",
    "- в норме Фробениуса\n",
    "\n",
    "$$ \\mathbb{E}\\|A - QQ^{\\top}A \\|_F \\leq \\left( 1 + \\frac{k}{p-1} \\right)^{1/2}\\left( \\sum_{j=k+1}^{\\min(m, n)} \\sigma^2_j \\right)^{1/2}  $$\n",
    "\n",
    "- в спектральной норме\n",
    "\n",
    "$$ \\mathbb{E}\\|A - QQ^{\\top}A \\|_2 \\leq \\left( 1 + \\sqrt{\\frac{k}{p-1}} \\right)\\sigma_{k+1} + \\frac{e\\sqrt{k+p}}{p}\\left( \\sum_{j=k+1}^{\\min(m, n)} \\sigma^2_j \\right)^{1/2} $$\n",
    "\n",
    "Математическое ожидание берется относительно случайной матрицы $G$, сгенерированной в методе, описанном выше.\n",
    "\n",
    "Сравните эти верхние границы с теоремой Экарта-Янга. Хороши ли эти границы?\n"
   ]
  },
  {
   "cell_type": "markdown",
   "metadata": {
    "slideshow": {
     "slide_type": "slide"
    }
   },
   "source": [
    "## Умножив несколько раз, можно оценить больше сингулярных значений\n",
    "\n",
    "- Основная идея: степенной метод\n",
    "- Если $A = U \\Sigma V^\\top$, то $A^{(q)} = (AA^{\\top})^qA = U \\Sigma^{2q+1}V^\\top $, где $q$ - некоторое небольшое натуральное число, например 1 или 2\n",
    "- Затем мы делаем выборку из $A^{(q)}$, а не из $A$\n",
    "\n",
    "$$ Y = (AA^{\\top})^qAG \\qquad Q, R = \\mathtt{qr}(Y) $$\n",
    "\n",
    "- Основная причина: если сингулярные значения $A$ убывают медленно, то сингулярные значения $A^{(q)}$ будут убывать быстрее"
   ]
  },
  {
   "cell_type": "code",
   "execution_count": 5,
   "metadata": {
    "slideshow": {
     "slide_type": "slide"
    }
   },
   "outputs": [
    {
     "data": {
      "image/png": "[encoded data removed]",
      "text/plain": [
       "<Figure size 640x480 with 1 Axes>"
      ]
     },
     "metadata": {},
     "output_type": "display_data"
    }
   ],
   "source": [
    "n = 1000\n",
    "m = 200\n",
    "A = np.random.randn(n, m)\n",
    "s = np.linalg.svd(A, compute_uv=False)\n",
    "Aq = A @ A.T @ A\n",
    "sq = np.linalg.svd(Aq, compute_uv=False)\n",
    "plt.semilogy(s / s[0], label=\"$A$\")\n",
    "plt.semilogy(sq / sq[0], label=\"$A^{(1)}$\")\n",
    "plt.legend(fontsize=18)\n",
    "plt.xticks(fontsize=16)\n",
    "plt.yticks(fontsize=16)\n",
    "plt.ylabel(\"$\\sigma_i / \\sigma_0$\", fontsize=16)\n",
    "_ = plt.xlabel(\"Index of singular value\", fontsize=16)"
   ]
  },
  {
   "cell_type": "markdown",
   "metadata": {
    "slideshow": {
     "slide_type": "slide"
    }
   },
   "source": [
    "## Потеря точности из-за ошибок округления, но мы сможем ее исправить\n",
    " \n",
    " Наивное составление $A^{(q)}$ приводит к росту числа обусловленности и потере точности\n",
    " \n",
    " **Q:** как мы можем бороться с этой проблемой?"
   ]
  },
  {
   "cell_type": "markdown",
   "metadata": {
    "slideshow": {
     "slide_type": "fragment"
    }
   },
   "source": [
    "**A:** sequential orthogonalization!"
   ]
  },
  {
   "cell_type": "code",
   "execution_count": 6,
   "metadata": {
    "slideshow": {
     "slide_type": "slide"
    }
   },
   "outputs": [
    {
     "name": "stdout",
     "output_type": "stream",
     "text": [
      "Error from randomized SVD 286.99760873015225\n",
      "Error from more accurate randomized SVD 250.2388642432797\n",
      "Error from exact SVD 249.3503301291079\n"
     ]
    },
    {
     "data": {
      "image/png": "[encoded data removed]",
      "text/plain": [
       "<Figure size 640x480 with 1 Axes>"
      ]
     },
     "metadata": {},
     "output_type": "display_data"
    }
   ],
   "source": [
    "def more_accurate_randomized_svd(A, rank, p, q):\n",
    "    m, n = A.shape\n",
    "    G = np.random.randn(n, rank + p)\n",
    "    Y = A @ G\n",
    "    Q, _ = np.linalg.qr(Y)\n",
    "    for i in range(q):\n",
    "        W = A.T @ Q\n",
    "        W, _ = np.linalg.qr(W)\n",
    "        Q = A @ W\n",
    "        Q, _ = np.linalg.qr(Q)\n",
    "    B = Q.T @ A\n",
    "    u, S, V = np.linalg.svd(B)\n",
    "    U = Q @ u\n",
    "    return U, S, V\n",
    "\n",
    "n = 1000\n",
    "m = 200\n",
    "A = np.random.randn(n, m)\n",
    "\n",
    "rank = 100\n",
    "p = 20\n",
    "U, S, V = randomized_svd(A, rank, p)\n",
    "print(\"Error from randomized SVD\", np.linalg.norm(A - U[:, :rank] * S[None, :rank] @ V[:rank, :]))\n",
    "plt.semilogy(S[:rank] / S[0], label=\"Random SVD\")\n",
    "\n",
    "Uq, Sq, Vq = more_accurate_randomized_svd(A, rank, p, 5)\n",
    "print(\"Error from more accurate randomized SVD\", np.linalg.norm(A - Uq[:, :rank] * Sq[None, :rank] @ Vq[:rank, :]))\n",
    "plt.semilogy(Sq[:rank] / Sq[0], label=\"Accurate random SVD\")\n",
    "\n",
    "u, s, v = np.linalg.svd(A)\n",
    "print(\"Error from exact SVD\", np.linalg.norm(A - u[:, :rank] * s[None, :rank] @ v[:rank, :]))\n",
    "plt.semilogy(s[:rank] / s[0], label=\"Exact SVD\")\n",
    "plt.legend(fontsize=18)\n",
    "plt.xticks(fontsize=16)\n",
    "plt.yticks(fontsize=16)\n",
    "plt.ylabel(\"$\\sigma_i / \\sigma_0$\", fontsize=16)\n",
    "_ = plt.xlabel(\"Index of singular value\", fontsize=16)"
   ]
  },
  {
   "cell_type": "code",
   "execution_count": 7,
   "metadata": {
    "slideshow": {
     "slide_type": "slide"
    }
   },
   "outputs": [
    {
     "name": "stdout",
     "output_type": "stream",
     "text": [
      "347 ms ± 60.1 ms per loop (mean ± std. dev. of 7 runs, 1 loop each)\n",
      "82.3 ms ± 6.93 ms per loop (mean ± std. dev. of 7 runs, 10 loops each)\n",
      "68.7 ms ± 4.99 ms per loop (mean ± std. dev. of 7 runs, 10 loops each)\n",
      "118 ms ± 6.57 ms per loop (mean ± std. dev. of 7 runs, 10 loops each)\n",
      "176 ms ± 13.9 ms per loop (mean ± std. dev. of 7 runs, 10 loops each)\n",
      "352 ms ± 43.3 ms per loop (mean ± std. dev. of 7 runs, 1 loop each)\n"
     ]
    }
   ],
   "source": [
    "%timeit spsplin.svds(A, k=k)\n",
    "%timeit fbpca.pca(A, k=k, raw=False)\n",
    "%timeit randomized_svd(A, k, p) \n",
    "%timeit more_accurate_randomized_svd(A, k, p, 1)\n",
    "%timeit more_accurate_randomized_svd(A, k, p, 2)\n",
    "%timeit more_accurate_randomized_svd(A, k, p, 5)"
   ]
  },
  {
   "cell_type": "markdown",
   "metadata": {
    "slideshow": {
     "slide_type": "slide"
    }
   },
   "source": [
    "### Здесь тоже есть теорема сходимости\n",
    "\n",
    "Представленный выше метод обеспечивает следующую верхнюю границу\n",
    "\n",
    "$$ \\mathbb{E}\\|A - QQ^{\\top}A \\|_2 \\leq \\left[\\left( 1 + \\sqrt{\\frac{k}{p-1}} \\right)\\sigma^{2q+1}_{k+1} + \\frac{e\\sqrt{k+p}}{p}\\left( \\sum_{j=k+1}^{\\min(m, n)} \\sigma^{2(2q+1)}_j \\right)^{1/2}\\right]^{1/(2q+1)} $$\n",
    "\n",
    "Рассмотрим наихудший случай, когда в данной матрице не существует структуры низкого ранга.\n",
    "\n",
    "**Вопрос:** какова степень субоптимальности по отношению к теореме Экарта-Янга?"
   ]
  },
  {
   "cell_type": "markdown",
   "metadata": {
    "slideshow": {
     "slide_type": "slide"
    }
   },
   "source": [
    "### Резюме по рандомизированному SVD\n",
    "\n",
    "- Эффективный метод для получения приближенного SVD\n",
    "- Прост в реализации\n",
    "- Может быть расширен до однопроходного метода, где матрица $A$ нужна только для построения $Q$\n",
    "- Требует только умножение матрицы на вектор с целевой матрицей"
   ]
  },
  {
   "cell_type": "markdown",
   "metadata": {
    "slideshow": {
     "slide_type": "slide"
    }
   },
   "source": [
    "## Метод Качмажа (Kaczmarz method) для решения линейных систем позволяет приближенно решать, не считая даже все строки\n",
    "\n",
    "- Мы уже обсудили, как решать переопределенные линейные системы $Ax = f$ в смысле наименьших квадратов\n",
    "    - псевдообратная матрица\n",
    "    - QR разложение\n",
    "- Еще один подход основан на итеративных проекциях, известный как **метод Качмажа** или **алгебраический метод реконструкции** в области вычислительной томографии\n",
    "- Вместо решения всех уравнений, выбираем одно случайно, которое имеет вид\n",
    "\n",
    "$$a^{\\top}_i x = f_i,$$\n",
    "\n",
    "и имея приближение $x_k$, пытаемся найти $x_{k+1}$ как\n",
    "\n",
    "$$x_{k+1} = \\arg \\min_x \\frac12 \\Vert x - x_k \\Vert^2_2, \\quad \\mbox{s.t.} \\quad  a^{\\top}_i x = f_i.$$\n",
    "\n",
    "- Простой анализ дает\n",
    "\n",
    "$$x_{k+1} = x_k - \\frac{(a_i, x_k) - f_i}{(a_i, a_i)} a_i. $$\n",
    "\n",
    "- Это недорогое обновление, но анализ довольно сложный.\n",
    "- В этом методе можно узнать стохастический градиентный спуск с определенным размером шага, равным $\\frac{1}{\\|a_i\\|_2^2}$ для каждого образца"
   ]
  },
  {
   "cell_type": "markdown",
   "metadata": {
    "slideshow": {
     "slide_type": "slide"
    }
   },
   "source": [
    "## Теорема сходимости была доказана очень недавно\n",
    "\n",
    "- Предположим, что мы генерируем $i$ согласно распределению по всем доступным индексам пропорционально нормам строк, т.е. $\\mathbb{P}[i = k] = \\frac{\\|a_k\\|_2^2}{\\| A \\|^2_F}$. Этот метод называется рандомизированным методом Качмажа (RKM)\n",
    "- Почему стратегия выборки здесь важна?\n",
    "- Исследование наилучшей выборки представлено [здесь](https://scholar.harvard.edu/files/yuelu/files/randkac_globalsip14.pdf)\n",
    "- Если переопределенная линейная система **совместна**, то\n",
    "\n",
    "$$ \\mathbb{E}[\\|x_{k+1} - x^*\\|^2_2] \\leq \\left(1 - \\frac{1}{\\kappa^2_F(A)}\\right) \\mathbb{E}[\\|x_{k} - x^*\\|^2_2], $$\n",
    "\n",
    "где $\\kappa_F(A) = \\frac{\\| A \\|_F}{\\sigma_{\\min}(A)}$ и $\\sigma_{\\min}(A)$ - минимальное ненулевое сингулярное число матрицы $A$. Этот результат был представлен в работе ([Strohmer and Vershynin, 2009](http://people.eecs.berkeley.edu/~brecht/cs294docs/week1/09.Strohmer.pdf))\n",
    "\n",
    "- Если переопределенная линейная система **несовместна**, то\n",
    "\n",
    "$$ \\mathbb{E}[\\|x_{k+1} - x^*\\|^2_2] \\leq \\left(1 - \\frac{1}{\\kappa^2_F(A)}\\right) \\mathbb{E}[\\|x_{k} - x^*\\|^2_2] + \\frac{\\|r^*\\|_2^2}{\\| A \\|^2_F}, $$\n",
    "\n",
    "где $r^* = Ax^* - f$"
   ]
  },
  {
   "cell_type": "markdown",
   "metadata": {
    "slideshow": {
     "slide_type": "slide"
    }
   },
   "source": [
    "## Хотелось бы поговорить о скетчинге, но это уже другая история\n",
    "\n",
    "- Выборка определенной строки может рассматриваться как частный случай более общего подхода, называемого **скетчингом**\n",
    "- Идея: заменить матрицу $A$ другой матрицей $SA$, где матрица $SA$ имеет значительно меньшее количество строк, но сохраняет некоторые важные свойства матрицы $A$\n",
    "- Возможные варианты:\n",
    "    - случайная проекция\n",
    "    - случайный выбор строк\n",
    "- Пример: задача линейных наименьших квадратов $\\|Ax - b\\|_2^2 \\to \\min_x$ преобразуется в $\\| (SA)y - Sb \\|_2^2 \\to \\min_y$, и мы ожидаем, что $x \\approx y$\n",
    "- Решатель [Blendenpick](https://pdos.csail.mit.edu/~petar/papers/blendenpik-v1.pdf) основан на этой идее и превосходит по производительности процедуру LAPACK\n",
    "- Более подробную информацию см. в работе [Sketching as a Tool for Numerical Linear Algebra](https://researcher.watson.ibm.com/researcher/files/us-dpwoodru/wNow3.pdf) автора D. Woodruff"
   ]
  },
  {
   "cell_type": "markdown",
   "metadata": {
    "slideshow": {
     "slide_type": "slide"
    }
   },
   "source": [
    "### Резюме по рандомизированным методам решения линейных систем\n",
    "\n",
    "- Семейство методов, простых в использовании\n",
    "- Особенно полезны в задачах с потоковыми данными\n",
    "- Существуют теоретические границы сходимости\n",
    "- Множество интерпретаций в различных областях (SGD в глубоком обучении, ART в вычислительной томографии)"
   ]
  },
  {
   "cell_type": "markdown",
   "metadata": {
    "slideshow": {
     "slide_type": "slide"
    }
   },
   "source": [
    "### Резюме по рандомизированному матричному умножению\n",
    "\n",
    "- Простой метод для получения приближенного результата\n",
    "- Может использоваться, если высокая точность не критична\n",
    "- Особенно полезен для больших плотных матриц"
   ]
  },
  {
   "cell_type": "markdown",
   "metadata": {
    "slideshow": {
     "slide_type": "slide"
    }
   },
   "source": [
    "## Следующая лекция\n",
    "- Мы начинаем изучение **разреженной и/или структурированной** численной линейной алгебры."
   ]
  },
  {
   "cell_type": "markdown",
   "metadata": {
    "slideshow": {
     "slide_type": "slide"
    }
   },
   "source": [
    "Вопросы?"
   ]
  },
  {
   "cell_type": "markdown",
   "metadata": {},
   "source": []
  }
 ],
 "metadata": {
  "anaconda-cloud": {},
  "celltoolbar": "Slideshow",
  "kernelspec": {
   "display_name": "Python 3 (ipykernel)",
   "language": "python",
   "name": "python3"
  },
  "language_info": {
   "codemirror_mode": {
    "name": "ipython",
    "version": 3
   },
   "file_extension": ".py",
   "mimetype": "text/x-python",
   "name": "python",
   "nbconvert_exporter": "python",
   "pygments_lexer": "ipython3",
   "version": "3.10.15"
  },
  "latex_envs": {
   "LaTeX_envs_menu_present": true,
   "bibliofile": "biblio.bib",
   "cite_by": "apalike",
   "current_citInitial": 1,
   "eqLabelWithNumbers": true,
   "eqNumInitial": 1,
   "labels_anchors": false,
   "latex_user_defs": false,
   "report_style_numbering": false,
   "user_envs_cfg": false
  },
  "nav_menu": {},
  "rise": {
   "scroll": true,
   "theme": "sky",
   "transition": "zoom"
  },
  "toc": {
   "navigate_menu": true,
   "number_sections": false,
   "sideBar": true,
   "threshold": 6,
   "toc_cell": false,
   "toc_section_display": "block",
   "toc_window_display": false
  }
 },
 "nbformat": 4,
 "nbformat_minor": 1
}
