{
 "cells": [
  {
   "cell_type": "markdown",
   "metadata": {
    "slideshow": {
     "slide_type": "slide"
    }
   },
   "source": [
    "# Лекция 4: Линейные системы"
   ]
  },
  {
   "cell_type": "markdown",
   "metadata": {
    "slideshow": {
     "slide_type": "slide"
    }
   },
   "source": [
    "## Предыдущая лекция\n",
    "- Ранг матрицы\n",
    "- Скелетное разложение\n",
    "- Низкоранговая аппроксимация\n",
    "- Сингулярное разложение (SVD)"
   ]
  },
  {
   "cell_type": "markdown",
   "metadata": {
    "slideshow": {
     "slide_type": "slide"
    }
   },
   "source": [
    "## Сегодняшняя лекция\n",
    "\n",
    "- Линейные системы\n",
    "- Обратная матрица\n",
    "- Число обусловленности\n",
    "- Метод Гаусса"
   ]
  },
  {
   "cell_type": "markdown",
   "metadata": {
    "slideshow": {
     "slide_type": "slide"
    }
   },
   "source": [
    "## Линейные системы\n",
    "\n",
    "- Линейные системы уравнений являются базовым инструментом в численной линейной алгебре.\n",
    "\n",
    "- Они встречаются в:\n",
    "\n",
    "    - Задачах линейной регрессии\n",
    "    - Дискретизации дифференциальных/интегральных уравнений в частных производных\n",
    "    - Линеаризации задач нелинейной регрессии\n",
    "    - Оптимизации (например, методы Гаусса-Ньютона и Ньютона-Рафсона, условия Каруша-Куна-Такера)"
   ]
  },
  {
   "cell_type": "markdown",
   "metadata": {
    "slideshow": {
     "slide_type": "slide"
    }
   },
   "source": [
    "## Линейные уравнения и матрицы\n",
    "- Из школы мы знаем о линейных уравнениях.\n",
    "\n",
    "- Система линейных уравнений может быть записана в форме\n",
    "\n",
    "\\begin{align*}\n",
    "    &2 x + 3 y = 5\\quad &\\longrightarrow \\quad &2x + 3 y + 0 z = 5\\\\\n",
    "    &2 x + 3z = 5\\quad &\\longrightarrow\\quad &2 x + 0 y + 3 z = 5\\\\\n",
    "    &x + y = 2\\quad &\\longrightarrow\\quad  & 1 x + 1 y + 0 z = 2\\\\\n",
    "\\end{align*}"
   ]
  },
  {
   "cell_type": "markdown",
   "metadata": {
    "slideshow": {
     "slide_type": "slide"
    }
   },
   "source": [
    "## Матричная форма\n",
    "\n",
    "$$\n",
    "\\begin{pmatrix}\n",
    "2 & 3 & 0 \\\\\n",
    "2 & 0 & 3 \\\\\n",
    "1 & 1 & 0 \\\\\n",
    "\\end{pmatrix}\\begin{pmatrix}\n",
    "x \\\\\n",
    "y \\\\\n",
    "z \n",
    "\\end{pmatrix} = \n",
    "\\begin{pmatrix}\n",
    "5 \\\\\n",
    "5 \\\\\n",
    "2\n",
    "\\end{pmatrix}\n",
    "$$\n",
    "\n",
    "или просто\n",
    "\n",
    "$$ A u = f,  $$\n",
    "\n",
    "где $A$ - матрица размера $3 \\times 3$, а $f$ - правая часть"
   ]
  },
  {
   "cell_type": "markdown",
   "metadata": {
    "slideshow": {
     "slide_type": "slide"
    }
   },
   "source": [
    "## Переопределенные и недоопределенные системы линейных уравнений\n",
    "\n",
    "Если система $Au = f$ имеет:\n",
    "\n",
    "- больше уравнений, чем неизвестных, она называется **переопределенной** системой (как правило, не имеет решения)\n",
    "\n",
    "- меньше уравнений, чем неизвестных, она называется **недоопределенной** системой (решение не единственно, для получения единственного решения необходимы дополнительные предположения)"
   ]
  },
  {
   "cell_type": "markdown",
   "metadata": {
    "slideshow": {
     "slide_type": "slide"
    }
   },
   "source": [
    "## Существование решений\n",
    "\n",
    "Решение системы линейных уравнений с **квадратной** матрицей $A$\n",
    "\n",
    "$$A u = f$$\n",
    "\n",
    "существует тогда и только тогда, когда\n",
    "* $\\det A \\ne 0$\n",
    "\n",
    "или\n",
    "\n",
    "* матрица $A$ имеет полный ранг."
   ]
  },
  {
   "cell_type": "markdown",
   "metadata": {
    "slideshow": {
     "slide_type": "slide"
    }
   },
   "source": [
    "## Масштабы линейных систем\n",
    "\n",
    "В разных приложениях типичный размер линейных систем может быть разным.\n",
    "\n",
    "- Малые: $n \\leq 10^4$ (полная матрица может храниться в памяти, **плотная матрица**)\n",
    "- Средние: $n = 10^4 - 10^6$ (обычно **разреженная** или **структурированная** матрица)\n",
    "- Большие: $n = 10^8 - 10^9$ (обычно **разреженная** матрица + параллельные вычисления)"
   ]
  },
  {
   "cell_type": "markdown",
   "metadata": {
    "slideshow": {
     "slide_type": "slide"
    }
   },
   "source": [
    "## Линейные системы могут быть большими\n",
    "- Мы берем непрерывную задачу, дискретизируем ее на сетке с $N$ элементами и получаем линейную систему с матрицей $N\\times N$.\n",
    "- Пример сетки вокруг самолета A319\n",
    "(взято с [сайта GMSH](http://geuz.org/gmsh/)).\n",
    "<img src=\"a319_4.png\" width=50%>\n",
    "\n",
    "Основная сложность в том, что эти системы большие: миллионы или миллиарды неизвестных!"
   ]
  },
  {
   "cell_type": "markdown",
   "metadata": {
    "slideshow": {
     "slide_type": "slide"
    }
   },
   "source": [
    "## Линейные системы могут быть структурированными\n",
    "\n",
    "- Хранение $N^2$ элементов матрицы непозволительно даже для $N = 100000$.\n",
    "\n",
    "**В:** как работать с такими матрицами?\n",
    "\n",
    "**О:** к счастью, эти матрицы **структурированные** и требуют хранения только $\\mathcal{O}(N)$ параметров.\n",
    "\n",
    "- Наиболее распространенной структурой являются **разреженные матрицы**: такие матрицы имеют только $\\mathcal{O}(N)$ ненулевых элементов!\n",
    "\n",
    "- Пример (одна из известных матриц для $n = 5$):\n",
    "\n",
    "$$\n",
    "  \\begin{pmatrix}\n",
    "  2 & -1 & 0 & 0 & 0 \\\\\n",
    "  -1 & 2 & -1 & 0 & 0 \\\\\n",
    "  0 & -1 & 2 & -1 & 0 \\\\\n",
    "  0 & 0 &-1& 2 & -1  \\\\\n",
    "  0 & 0 & 0 & -1 & 2 \\\\\n",
    "  \\end{pmatrix}\n",
    "$$\n",
    "\n",
    "- По крайней мере такие матрицы можно хранить\n",
    "- Также можно быстро умножать такую матрицу на вектор\n",
    "- Но как решать линейные системы?"
   ]
  },
  {
   "cell_type": "markdown",
   "metadata": {
    "slideshow": {
     "slide_type": "slide"
    }
   },
   "source": [
    "## Основные вопросы о линейных системах\n",
    "\n",
    "1. Какую точность мы получаем в решении (из-за ошибок округления)?\n",
    "2. Как мы вычисляем решение? (LU-разложение, метод Гаусса)\n",
    "3. Какова сложность решения линейных систем?"
   ]
  },
  {
   "cell_type": "markdown",
   "metadata": {
    "slideshow": {
     "slide_type": "slide"
    }
   },
   "source": [
    "## Как решать линейные системы?\n",
    "**Важно**: забудьте про определители и **правило Крамера** (оно хорошо работает только для матриц $2 \\times 2$)!"
   ]
  },
  {
   "cell_type": "markdown",
   "metadata": {
    "slideshow": {
     "slide_type": "slide"
    }
   },
   "source": [
    "## Как решать линейные системы?\n",
    "\n",
    "Основной инструмент - исключение переменных.\n",
    "\n",
    "\\begin{align*}\n",
    "    &2 y + 3 x = 5 \\quad&\\longrightarrow \\quad &y = 5/2 -  3/2 x \\\\\n",
    "    &2 x + 3z = 5 \\quad&\\longrightarrow\\quad &z = 5/3 - 2/3 x\\\\\n",
    "    &z + y = 2 \\quad&\\longrightarrow\\quad  & 5/2 + 5/3 - (3/2 + 2/3) x = 2,\\\\\n",
    "\\end{align*}\n",
    "\n",
    "и так находится $x$ (и все предыдущие).\n",
    "\n",
    "Этот процесс называется **методом Гаусса** и является одним из наиболее широко используемых алгоритмов."
   ]
  },
  {
   "cell_type": "markdown",
   "metadata": {
    "slideshow": {
     "slide_type": "slide"
    }
   },
   "source": [
    "## Метод Гаусса\n",
    "Метод Гаусса состоит из двух шагов:\n",
    "1. Прямой ход\n",
    "2. Обратный ход"
   ]
  },
  {
   "cell_type": "markdown",
   "metadata": {
    "slideshow": {
     "slide_type": "slide"
    }
   },
   "source": [
    "## Прямой проход\n",
    "- На прямом проходе мы исключаем $x_1$:\n",
    "\n",
    "$$\n",
    "   x_1 = f_1 - (a_{12} x_2 + \\ldots + a_{1n} x_n)/a_{11},\n",
    "$$\n",
    "\n",
    "и затем подставляем это в уравнения $2, \\ldots, n$.\n",
    "\n",
    "- Затем мы исключаем $x_2$ и так далее из второго уравнения.\n",
    "\n",
    "- Важно, что **ведущие элементы** (на которые мы делим) не равны $0$."
   ]
  },
  {
   "cell_type": "markdown",
   "metadata": {
    "slideshow": {
     "slide_type": "slide"
    }
   },
   "source": [
    "## Обратный проход\n",
    "На обратном проходе:\n",
    "- решаем уравнение для $x_n$\n",
    "- подставляем его в уравнение для $x_{n-1}$ и так далее, пока не\n",
    "вычислим все $x_i, i=1,\\ldots, n$."
   ]
  },
  {
   "cell_type": "markdown",
   "metadata": {
    "slideshow": {
     "slide_type": "slide"
    }
   },
   "source": [
    "## Метод Гаусса и LU-разложение\n",
    "\n",
    "- Метод Гаусса - это вычисление одного из важнейших матричных разложений: **LU-разложения**.\n",
    "\n",
    "**Определение**: LU-разложением квадратной матрицы $A$ называется представление\n",
    "\n",
    "$$A = LU,$$\n",
    "\n",
    "где\n",
    "- $L$ - **нижнетреугольная** матрица (элементы строго над диагональю равны нулю)\n",
    "- $U$ - **верхнетреугольная** матрица (элементы строго под диагональю равны нулю)\n",
    "\n",
    "Это разложение **не единственно**, поэтому обычно требуют, чтобы матрица $L$ имела единицы на диагонали."
   ]
  },
  {
   "cell_type": "markdown",
   "metadata": {
    "slideshow": {
     "slide_type": "slide"
    }
   },
   "source": [
    "**Основная цель** LU-разложения - это решение линейной системы, потому что\n",
    "\n",
    "$$ A^{-1} f = (L U)^{-1} f = U^{-1} L^{-1} f, $$\n",
    "\n",
    "и это сводится к решению двух линейных систем **прямой проход**\n",
    "\n",
    "$$ L y = f, $$\n",
    "\n",
    "и **обратный проход**\n",
    "\n",
    "$$ U x = y. $$\n",
    "\n",
    "Существует ли LU-разложение всегда?"
   ]
  },
  {
   "cell_type": "markdown",
   "metadata": {
    "slideshow": {
     "slide_type": "slide"
    }
   },
   "source": [
    "## Сложность метода Гаусса/LU-разложения\n",
    "\n",
    "- Каждый шаг исключения требует $\\mathcal{O}(n^2)$ операций.\n",
    "\n",
    "- Таким образом, стоимость наивного алгоритма составляет $\\mathcal{O}(n^3)$.\n",
    "\n",
    "**Подумайте**: может ли алгоритм Штрассена помочь здесь?"
   ]
  },
  {
   "cell_type": "markdown",
   "metadata": {
    "slideshow": {
     "slide_type": "slide"
    }
   },
   "source": [
    "## Блочное LU-разложение\n",
    "\n",
    "Мы можем попробовать вычислить **блочную** версию LU-разложения:\n",
    "\n",
    "\n",
    "$$\\begin{pmatrix} A_{11} & A_{12} \\\\\n",
    "A_{21} & A_{22}\n",
    "\\end{pmatrix} = \\begin{pmatrix} L_{11} & 0 \\\\\n",
    "L_{21} & L_{22}\n",
    "\\end{pmatrix} \\begin{pmatrix} U_{11} & U_{12} \\\\\n",
    "0 & U_{22} \n",
    "\\end{pmatrix} $$\n",
    "\n",
    "- Есть две основные операции: вычисление LU-разложения половинных матриц + произведение матриц."
   ]
  },
  {
   "cell_type": "markdown",
   "metadata": {
    "slideshow": {
     "slide_type": "slide"
    }
   },
   "source": [
    "## Существование LU-разложения\n",
    "- Алгоритм LU-разложения не даст сбой, если **мы не делим на ноль** на каждом шаге метода Гаусса.\n",
    "\n",
    "**Вопрос:** когда это так, для какого класса матриц?\n",
    "\n",
    "**Ответ:** это верно для **строго регулярных матриц**."
   ]
  },
  {
   "cell_type": "markdown",
   "metadata": {
    "slideshow": {
     "slide_type": "slide"
    }
   },
   "source": [
    "## Строго регулярные матрицы и LU-разложение\n",
    "\n",
    "- **Определение.** Матрица $A$ называется *строго регулярной*, если все её **ведущие главные миноры** (т.е. подматрицы, состоящие из первых $k$ строк и $k$ столбцов) невырождены.\n",
    "\n",
    "- В этом случае всегда существует LU-разложение. Обратное также верно (проверьте!)."
   ]
  },
  {
   "cell_type": "markdown",
   "metadata": {
    "slideshow": {
     "slide_type": "slide"
    }
   },
   "source": [
    "**Следствие:** Если $L$ - унитреугольная матрица (единицы на диагонали), то $LU$-разложение единственно. <br>\n",
    "\n",
    "**Доказательство:** Действительно, $L_1 U_1 = L_2 U_2$ означает $L_2^{-1} L_1 = U_2 U_1^{-1}$. $L_2^{-1} L_1$ - нижнетреугольная матрица с единицами на диагонали. $U_2 U_1^{-1}$ - верхнетреугольная матрица. Следовательно, $L_2^{-1} L_1 = U_2 U_1^{-1} = I$ и $L_1 = L_2$, $U_1 = U_2$."
   ]
  },
  {
   "cell_type": "markdown",
   "metadata": {
    "slideshow": {
     "slide_type": "slide"
    }
   },
   "source": [
    "## LU-разложение для эрмитовых положительно определенных матриц (разложение Холецкого)\n",
    "\n",
    "- Строго регулярные матрицы имеют LU-разложение.\n",
    "\n",
    "- Важным **подклассом** строго регулярных матриц является класс **эрмитовых положительно определенных матриц**"
   ]
  },
  {
   "cell_type": "markdown",
   "metadata": {
    "slideshow": {
     "slide_type": "slide"
    }
   },
   "source": [
    "\n",
    "**Определение.** Матрица $A$ называется <font color='red'> положительно определенной </font>, если для любого $x: \\Vert x \\Vert \\ne 0$ выполняется\n",
    "\n",
    "$$\n",
    "(x, Ax) > 0.\n",
    "$$\n",
    "- если это выполняется для $x \\in \\mathbb{C}^n$, то матрица $A$ должна быть эрмитовой\n",
    "- если это выполняется для $x \\in \\mathbb{R}^n$, то матрица $A$ может быть несимметричной"
   ]
  },
  {
   "cell_type": "markdown",
   "metadata": {
    "slideshow": {
     "slide_type": "slide"
    }
   },
   "source": [
    "- **Утверждение:** Эрмитова положительно определенная матрица $A$ является строго регулярной и имеет **разложение Холецкого** вида\n",
    "\n",
    "$$A = RR^*,$$\n",
    "\n",
    "где $R$ - нижнетреугольная матрица.\n",
    "\n",
    "- Давайте попробуем доказать этот факт (на доске).\n",
    "\n",
    "- Иногда это называют \"квадратным корнем\" из матрицы."
   ]
  },
  {
   "cell_type": "markdown",
   "metadata": {
    "slideshow": {
     "slide_type": "slide"
    }
   },
   "source": [
    "Вычисление LU-разложения\n",
    "\n",
    "- Во многих случаях вычисление LU-разложения один раз - хорошая идея!\n",
    "\n",
    "- После того, как разложение найдено (это требует $\\mathcal{O}(n^3)$ операций), решение линейных систем с $L$ и $U$ требует только $\\mathcal{O}(n^2)$ операций.\n",
    "\n",
    "Проверьте:\n",
    "\n",
    "- Решение линейных систем с треугольными матрицами простое (почему?).\n",
    "- Как мы вычисляем множители $L$ и $U$?"
   ]
  },
  {
   "cell_type": "markdown",
   "metadata": {
    "slideshow": {
     "slide_type": "slide"
    }
   },
   "source": [
    "## Когда LU-разложение не работает\n",
    "\n",
    "- Что происходит, если матрица не является строго регулярной (или **ведущие элементы** в методе Гаусса очень малы?).\n",
    "\n",
    "- Существует классический пример матрицы $2 \\times 2$ с плохим LU-разложением.\n",
    "\n",
    "- Рассмотрим матрицу\n",
    "\n",
    "$$\n",
    "    A = \\begin{pmatrix}\n",
    "    \\varepsilon & 1 \\\\\n",
    "    1 & 1 \n",
    "    \\end{pmatrix}\n",
    "$$\n",
    "\n",
    "- Если $\\varepsilon$ достаточно мал, мы **можем** потерпеть неудачу. В отличие от этого, разложение Холецкого **всегда стабильно**.\n",
    "\n",
    "Давайте рассмотрим демонстрацию."
   ]
  },
  {
   "cell_type": "code",
   "execution_count": 14,
   "metadata": {
    "slideshow": {
     "slide_type": "slide"
    }
   },
   "outputs": [
    {
     "name": "stdout",
     "output_type": "stream",
     "text": [
      "L * U - A:\n",
      " [[0. 0.]\n",
      " [0. 0.]]\n"
     ]
    },
    {
     "data": {
      "text/plain": [
       "array([[1.00000000e+00, 0.00000000e+00],\n",
       "       [1.01010101e+14, 1.00000000e+00]])"
      ]
     },
     "execution_count": 14,
     "metadata": {},
     "output_type": "execute_result"
    }
   ],
   "source": [
    "import numpy as np\n",
    "\n",
    "eps = 9.9e-15\n",
    "a = [[eps, 1],[1.0,  1]]\n",
    "a = np.array(a)\n",
    "a0 = a.copy()\n",
    "n = a.shape[0]\n",
    "L = np.zeros((n, n))\n",
    "U = np.zeros((n, n))\n",
    "for k in range(n): #Eliminate one row\n",
    "    L[k, k] = 1.0\n",
    "    for i in range(k+1, n):\n",
    "        L[i, k] = a[i, k]/a[k, k]\n",
    "        for j in range(k+1, n):\n",
    "            a[i, j] -= L[i, k]*a[k, j]\n",
    "    for j in range(k, n):\n",
    "        U[k, j] = a[k, j]\n",
    "print('L * U - A:\\n', np.dot(L, U) - a0)\n",
    "L"
   ]
  },
  {
   "cell_type": "markdown",
   "metadata": {
    "slideshow": {
     "slide_type": "slide"
    }
   },
   "source": [
    "## Концепция выбора ведущего элемента\n",
    "\n",
    "- Мы можем выполнять выбор ведущего элемента, т.е. переставлять строки и столбцы для максимизации $A_{kk}$, на который мы делим.\n",
    "\n",
    "- Простейшая, но эффективная стратегия - это **выбор ведущей строки**: на каждом шаге выбираем индекс с максимальным по модулю значением и ставим его на диагональ.\n",
    "\n",
    "- Это дает нам разложение\n",
    "\n",
    "$$A = P L U,$$\n",
    "\n",
    "где $P$ - это **матрица перестановок**.\n",
    "\n",
    "\n",
    "**Вопрос:** Что делает **выбор ведущей строки** хорошим?\n",
    "\n",
    "**Ответ:** Он хорош тем, что\n",
    "\n",
    "$$ | L_{ij}|<1, $$\n",
    "\n",
    "но элементы $U$ могут вырасти до $2^n$! (на практике это встречается очень редко).\n",
    "\n",
    "- Можете ли вы придумать матрицу, где элементы $U$ растут максимально возможным образом?"
   ]
  },
  {
   "cell_type": "markdown",
   "metadata": {
    "slideshow": {
     "slide_type": "slide"
    }
   },
   "source": [
    "## Устойчивость линейных систем\n",
    "\n",
    "- Существует фундаментальная проблема решения линейных систем, которая не зависит от используемого алгоритма.\n",
    "\n",
    "- Она возникает, когда элементы матрицы представлены в виде чисел с плавающей точкой или присутствует измерительный шум.\n",
    "\n",
    "Проиллюстрируем эту проблему на следующем примере."
   ]
  },
  {
   "cell_type": "code",
   "execution_count": 2,
   "metadata": {
    "slideshow": {
     "slide_type": "slide"
    }
   },
   "outputs": [
    {
     "name": "stdout",
     "output_type": "stream",
     "text": [
      "19.87968164147078\n"
     ]
    },
    {
     "data": {
      "image/png": "[encoded data removed]",
      "text/plain": [
       "<Figure size 640x480 with 1 Axes>"
      ]
     },
     "metadata": {},
     "output_type": "display_data"
    }
   ],
   "source": [
    "import numpy as np\n",
    "import matplotlib.pyplot as plt\n",
    "%matplotlib inline\n",
    "n = 40\n",
    "a = [[1.0/(i + j + 0.5) for i in range(n)] for j in range(n)]\n",
    "a = np.array(a)\n",
    "rhs = np.random.normal(size=(n,)) #Right-hand side\n",
    "x = np.linalg.solve(a, rhs) #This function computes LU-factorization and solves linear system\n",
    "\n",
    "#And check if everything is fine\n",
    "er = np.linalg.norm(np.dot(a, x) - rhs) / np.linalg.norm(rhs)\n",
    "print(er)\n",
    "plt.plot(x)\n",
    "plt.grid(True)"
   ]
  },
  {
   "cell_type": "markdown",
   "metadata": {
    "slideshow": {
     "slide_type": "fragment"
    }
   },
   "source": [
    "- Как видите, ошибка растет с увеличением $n$, и нам нужно выяснить почему.\n",
    "- **Важный момент** заключается в том, что это не проблема алгоритма: это проблема представления матрицы в памяти.\n",
    "- Ошибка возникает в момент, когда элементы матрицы вычисляются приближенно."
   ]
  },
  {
   "cell_type": "markdown",
   "metadata": {
    "slideshow": {
     "slide_type": "slide"
    }
   },
   "source": [
    "## Вопросы по демонстрации\n",
    "\n",
    "- В чем была проблема в предыдущем примере?\n",
    "\n",
    "- Почему ошибка растет так быстро?\n",
    "\n",
    "- И здесь мы подходим к одному из основных понятий численной линейной алгебры: понятию **числа обусловленности** матрицы.\n",
    "\n",
    "Но прежде чем говорить об этом, нам нужно определить **обратную матрицу**."
   ]
  },
  {
   "cell_type": "markdown",
   "metadata": {
    "slideshow": {
     "slide_type": "slide"
    }
   },
   "source": [
    "## Обратная матрица: определение\n",
    "\n",
    "- Обратная матрица к матрице $A$ определяется как матрица $X$, обозначаемая $A^{-1}$, такая что\n",
    "\n",
    "$$ AX = XA = I, $$\n",
    "\n",
    "где $I$ - единичная матрица (т.е. $I_{ij} = 0$ при $i \\ne j$ и $1$ в противном случае).\n",
    "- Вычисление обратной матрицы связано с решением линейных систем. Действительно, $i$-й столбец произведения дает\n",
    "\n",
    "$$ A x_i = e_i,$$\n",
    "\n",
    "где $e_i$ - это $i$-й столбец единичной матрицы.\n",
    "- Таким образом, мы можем применить метод Гаусса для решения этой системы. Более того, если в этом процессе нет деления на ноль (и опорные элементы не зависят от правой части), то систему можно решить."
   ]
  },
  {
   "cell_type": "markdown",
   "metadata": {
    "slideshow": {
     "slide_type": "slide"
    }
   },
   "source": [
    "## Обратная матрица и линейные системы\n",
    "Если мы вычислили $A^{-1}$, то решение линейной системы\n",
    "\n",
    "$$Ax = f$$\n",
    "\n",
    "просто $x = A^{-1} f$.\n",
    "\n",
    "Действительно,\n",
    "\n",
    "$$ A(A^{-1} f) = (AA^{-1})f = I f = f. $$"
   ]
  },
  {
   "cell_type": "markdown",
   "metadata": {
    "slideshow": {
     "slide_type": "slide"
    }
   },
   "source": [
    "## Ряд Неймана\n",
    "\n",
    "- Чтобы изучить, почему могут возникать такие большие ошибки в решении (см. пример выше с матрицей Гильберта), нам нужен важный вспомогательный результат.\n",
    "\n",
    "**Ряд Неймана**:\n",
    "\n",
    "Если для матрицы $F$ выполняется условие $\\Vert F \\Vert < 1$, то матрица $(I - F)$ обратима и\n",
    "\n",
    "$$(I - F)^{-1} = I + F + F^2 + F^3 + \\ldots = \\sum_{k=0}^{\\infty} F^k.$$\n",
    "\n",
    "Заметим, что это матричная версия геометрической прогрессии.\n",
    "\n",
    "**Вопрос**: какая норма здесь рассматривается? Какая норма является \"наилучшей\" в данном случае?"
   ]
  },
  {
   "cell_type": "markdown",
   "metadata": {
    "slideshow": {
     "slide_type": "slide"
    }
   },
   "source": [
    "## Доказательство\n",
    "Доказательство конструктивно. Сначала докажем, что ряд $\\sum_{k=0}^{\\infty} F^k$ сходится.\n",
    "\n",
    "Как и в скалярном случае, имеем\n",
    "\n",
    "$$ (I - F) \\sum_{k=0}^N F^k = (I - F^{N+1}) \\rightarrow I, \\quad N \\to +\\infty $$\n",
    "\n",
    "Действительно,\n",
    "\n",
    "$$ \\| (I - F^{N+1}) - I\\| = \\|F^{N+1}\\| \\leqslant \\|F\\|^{N+1} \\to 0, \\quad N\\to +\\infty. $$\n",
    "\n",
    "Мы также можем оценить **норму обратной матрицы**:\n",
    "\n",
    "$$ \\left\\Vert \\sum_{k=0}^N F^k \\right\\Vert \\leq \\sum_{k=0}^N \\Vert F \\Vert^k \\Vert I \\Vert \\leq \\frac{\\Vert I \\Vert}{1 - \\Vert F \\Vert} $$"
   ]
  },
  {
   "cell_type": "markdown",
   "metadata": {
    "slideshow": {
     "slide_type": "slide"
    }
   },
   "source": [
    "## Малое возмущение обратной матрицы\n",
    "\n",
    "- Используя этот результат, мы можем оценить, как возмущение матрицы влияет на обратную матрицу.\n",
    "- Предположим, что возмущение $E$ мало в том смысле, что $\\Vert A^{-1} E \\Vert < 1$.\n",
    "- Тогда\n",
    "\n",
    "$$(A + E)^{-1} = \\sum_{k=0}^{\\infty} (-A^{-1} E)^k A^{-1}$$\n",
    "\n",
    "и более того,\n",
    "\n",
    "$$ \\frac{\\Vert (A + E)^{-1} - A^{-1} \\Vert}{\\Vert A^{-1} \\Vert} \\leq \\frac{\\Vert A^{-1} \\Vert \\Vert E \\Vert \\Vert I \\Vert}{1 - \\Vert A^{-1} E \\Vert}. $$\n",
    "\n",
    "Как видите, норма обратной матрицы входит в оценку."
   ]
  },
  {
   "cell_type": "markdown",
   "metadata": {
    "slideshow": {
     "slide_type": "slide"
    }
   },
   "source": [
    "## Число обусловленности линейной системы\n",
    "Рассмотрим **возмущенную** линейную систему:\n",
    "\n",
    "$$ (A + \\Delta A) \\widehat{x} = f + \\Delta f. $$"
   ]
  },
  {
   "cell_type": "markdown",
   "metadata": {
    "slideshow": {
     "slide_type": "slide"
    }
   },
   "source": [
    "## Оценки\n",
    "\n",
    "$$\n",
    "\\begin{split}\n",
    "\\widehat{x} - x &= (A + \\Delta A)^{-1} (f + \\Delta f) - A^{-1} f =\\\\ \n",
    "&= \\left((A + \\Delta A)^{-1} - A^{-1}\\right)f + (A + \\Delta A)^{-1} \\Delta f = \\\\\n",
    "& = \\Big[ \\sum_{k=0}^{\\infty} (-A^{-1} \\Delta A)^k - I \\Big]A^{-1} f + \\Big[\\sum_{k=0}^{\\infty} (-A^{-1} \\Delta A)^k \\Big]A^{-1} \\Delta f  \\\\\n",
    "&= \\Big[\\sum_{k=1}^{\\infty} (-A^{-1} \\Delta A)^k\\Big] A^{-1} f + \\Big[\\sum_{k=0}^{\\infty} (-A^{-1} \\Delta A)^k \\Big] A^{-1} \\Delta f,\n",
    "\\end{split}\n",
    "$$   \n",
    "\n",
    "следовательно\n",
    "\n",
    "$$\n",
    "\\begin{split}\n",
    "\\frac{\\Vert \\widehat{x} - x \\Vert}{\\Vert x \\Vert} \\leq \n",
    "&\\frac{1}{\\|A^{-1}f\\|} \\Big[ \\frac{\\|A^{-1}\\|\\|\\Delta A\\|}{1 - \\|A^{-1}\\Delta A\\|}\\|A^{-1}f\\| + \\frac{1}{1 - \\|A^{-1} \\Delta A\\|} \\|A^{-1} \\Delta f\\|  \\Big] \\\\\n",
    "\\leq & \\frac{\\|A\\|\\|A^{-1}\\|}{1 - \\|A^{-1}\\Delta A\\|} \\frac{\\|\\Delta A\\|}{\\|A\\|} + \\frac{\\|A^{-1}\\|}{1 - \\|A^{-1}\\Delta A\\|} \\frac{\\|\\Delta f\\|}{\\|A^{-1}f\\|}\\\\\n",
    "\\end{split}\n",
    "$$\n",
    "\n",
    "Заметим, что $\\|AA^{-1}f\\| \\leq \\|A\\|\\|A^{-1}f\\|$, поэтому $\\| A^{-1} f \\| \\geq \\frac{\\|f\\|}{\\|A\\|}$\n",
    "\n",
    "Теперь мы готовы получить окончательную оценку\n",
    "\n",
    "$$\n",
    "\\begin{split}\n",
    "\\frac{\\Vert \\widehat{x} - x \\Vert}{\\Vert x \\Vert} \\leq \n",
    "&\\frac{\\Vert A \\Vert \\Vert A^{-1} \\Vert}{1 - \\|A^{-1}\\Delta A\\|} \\Big(\\frac{\\Vert\\Delta A\\Vert}{\\Vert A \\Vert} + \\frac{\\Vert \\Delta f \\Vert}{ \\Vert f \\Vert}\\Big) \\leq \\\\\n",
    "\\leq\n",
    "&\\frac{\\Vert A \\Vert \\Vert A^{-1} \\Vert}{1 - \\|A\\|\\|A^{-1}\\|\\frac{\\|\\Delta A\\|}{\\|A\\|}} \\Big(\\frac{\\Vert\\Delta A\\Vert}{\\Vert A \\Vert} + \\frac{\\Vert \\Delta f \\Vert}{ \\Vert f \\Vert}\\Big) = \\\\\n",
    "= &\\frac{\\mathrm{cond}(A)}{1 - \\mathrm{cond}(A)\\frac{\\|\\Delta A\\|}{\\|A\\|}} \\Big(\\frac{\\Vert\\Delta A\\Vert}{\\Vert A \\Vert} + \\frac{\\Vert \\Delta f \\Vert}{ \\Vert f \\Vert}\\Big)\n",
    "\\end{split}\n",
    "$$\n",
    "\n",
    "Ключевую роль играет **число обусловленности** $\\mathrm{cond}(A) = \\Vert A \\Vert \\Vert A^{-1} \\Vert$."
   ]
  },
  {
   "cell_type": "markdown",
   "metadata": {
    "slideshow": {
     "slide_type": "slide"
    }
   },
   "source": [
    "## Число обусловленности\n",
    "\n",
    "- Чем больше число обусловленности, тем меньше цифр мы можем восстановить. Заметим, что число обусловленности различно для разных норм.\n",
    "\n",
    "- Заметим, что если $\\Delta A = 0$, то\n",
    "\n",
    "$$ \\frac{\\Vert \\widehat{x} - x \\Vert}{\\Vert x \\Vert} \\leq \\mathrm{cond}(A) \\frac{\\|\\Delta f\\|}{\\|f\\|} $$"
   ]
  },
  {
   "cell_type": "markdown",
   "metadata": {
    "slideshow": {
     "slide_type": "slide"
    }
   },
   "source": [
    "- Спектральная норма матрицы равна **наибольшему сингулярному числу**, а сингулярные числа обратной матрицы равны обратным значениям сингулярных чисел.\n",
    "- Таким образом, число обусловленности в спектральной норме равно отношению наибольшего сингулярного числа к наименьшему.\n",
    "\n",
    "$$ \\mathrm{cond}_2 (A) = \\|A\\|_2 \\|A^{-1}\\|_2 = \\frac{\\sigma_{\\max}}{\\sigma_{\\min}} $$"
   ]
  },
  {
   "cell_type": "markdown",
   "metadata": {
    "slideshow": {
     "slide_type": "slide"
    }
   },
   "source": [
    "## Матрица Гильберта (снова)\n",
    "\n",
    "- Мы также можем попробовать проверить, насколько точна оценка как с единицами в правой части, так и со случайным вектором в правой части.\n",
    "- Результаты разительно отличаются"
   ]
  },
  {
   "cell_type": "code",
   "execution_count": 25,
   "metadata": {
    "slideshow": {
     "slide_type": "slide"
    }
   },
   "outputs": [
    {
     "name": "stdout",
     "output_type": "stream",
     "text": [
      "Error: 2.2843047554427222e-08 Log Condition number: 19.020186116767867\n"
     ]
    },
    {
     "data": {
      "text/plain": [
       "[<matplotlib.lines.Line2D at 0x110385d20>]"
      ]
     },
     "execution_count": 25,
     "metadata": {},
     "output_type": "execute_result"
    },
    {
     "data": {
      "image/png": "[encoded data removed]",
      "text/plain": [
       "<Figure size 640x480 with 1 Axes>"
      ]
     },
     "metadata": {},
     "output_type": "display_data"
    }
   ],
   "source": [
    "import matplotlib.pyplot as plt\n",
    "import numpy as np\n",
    "\n",
    "n = 30\n",
    "a = [[1.0/(i + j + 0.5) for i in range(n)] for j in range(n)]\n",
    "a = np.array(a)\n",
    "#rhs = np.random.normal(size=n)\n",
    "rhs = np.ones(n) #Right-hand side\n",
    "#rhs = np.random.randn(n)\n",
    "#rhs = np.arange(n)\n",
    "#rhs = (-1)**rhs\n",
    "f = np.linalg.solve(a, rhs)\n",
    "\n",
    "#And check if everything is fine\n",
    "er = np.linalg.norm(a.dot(f) - rhs) / np.linalg.norm(rhs)\n",
    "cn = np.linalg.cond(a, 2)\n",
    "print('Error:', er, 'Log Condition number:', np.log10(cn))\n",
    "\n",
    "u1, s1, v1 = np.linalg.svd(a)\n",
    "cf = u1.T@rhs\n",
    "plt.plot(u1[:, 20])\n",
    "#cf\n",
    "#cf/s1"
   ]
  },
  {
   "cell_type": "markdown",
   "metadata": {
    "slideshow": {
     "slide_type": "slide"
    }
   },
   "source": [
    "А теперь со случайной правой частью..."
   ]
  },
  {
   "cell_type": "code",
   "execution_count": 4,
   "metadata": {
    "slideshow": {
     "slide_type": "slide"
    }
   },
   "outputs": [
    {
     "data": {
      "image/png": "[encoded data removed]",
      "text/plain": [
       "<Figure size 640x480 with 1 Axes>"
      ]
     },
     "metadata": {},
     "output_type": "display_data"
    }
   ],
   "source": [
    "import numpy as np\n",
    "import matplotlib.pyplot as plt\n",
    "%matplotlib inline\n",
    "\n",
    "n = 100\n",
    "a = [[1.0/(i - j + 0.5) for i in range(n)] for j in range(n)]\n",
    "a = np.array(a)\n",
    "#rhs = np.random.randn(n) #Right-hand side\n",
    "#f = np.linalg.solve(a, rhs)\n",
    "\n",
    "#And check if everything is fine\n",
    "#er = np.linalg.norm(a.dot(f) - rhs) / np.linalg.norm(rhs)\n",
    "#cn = np.linalg.cond(a)\n",
    "#print('Error:', er, 'Condition number:', cn)\n",
    "\n",
    "u, s, v = np.linalg.svd(a)\n",
    "#rhs = np.random.randn(n)\n",
    "rhs = np.ones((n,))\n",
    "plt.plot(u[:, 0])\n",
    "plt.grid(True)\n",
    "plt.xlabel(\"Index of vector elements\", fontsize=20)\n",
    "plt.ylabel(\"Elements of vector\", fontsize=20)\n",
    "plt.xticks(fontsize=18)\n",
    "_ = plt.yticks(fontsize=18)"
   ]
  },
  {
   "cell_type": "markdown",
   "metadata": {
    "slideshow": {
     "slide_type": "fragment"
    }
   },
   "source": [
    "**Можете ли вы объяснить это?**  "
   ]
  },
  {
   "cell_type": "markdown",
   "metadata": {
    "slideshow": {
     "slide_type": "slide"
    }
   },
   "source": [
    "## Переопределенные линейные системы\n",
    "\n",
    "- Важный класс задач - это **переопределенные линейные системы**, когда количество уравнений больше, чем количество неизвестных.\n",
    "\n",
    "- Простейший пример, который вы все знаете - это **линейная аппроксимация**, аппроксимация набора 2D точек прямой линией.\n",
    "\n",
    "- Тогда типичный способ - это минимизировать невязку (**метод наименьших квадратов**)\n",
    "\n",
    "$$\\Vert A x - b \\Vert_2 \\rightarrow \\min$$"
   ]
  },
  {
   "cell_type": "markdown",
   "metadata": {
    "slideshow": {
     "slide_type": "slide"
    }
   },
   "source": [
    "## Переопределенная система и матрица Грама\n",
    "\n",
    "Условие оптимальности - это $0\\equiv \\nabla \\left(\\|Ax-b\\|_2^2\\right)$, где $\\nabla$ обозначает градиент. Следовательно,\n",
    "\n",
    "$$ 0 \\equiv \\nabla \\left(\\|Ax-b\\|_2^2\\right) = 2(A^*A x - A^*b) = 0. $$\n",
    "\n",
    "Таким образом,\n",
    "\n",
    "$$ \\quad A^* A x = A^* b $$\n",
    "\n",
    "- Матрица $A^* A$ называется **матрицей Грама**, а система называется **нормальным уравнением**.\n",
    "\n",
    "- Это не лучший способ решения, так как число обусловленности $A^* A$ является квадратом числа обусловленности $A$ (проверьте почему)."
   ]
  },
  {
   "cell_type": "markdown",
   "metadata": {
    "slideshow": {
     "slide_type": "slide"
    }
   },
   "source": [
    "## Псевдообратная матрица\n",
    "\n",
    "- Матрица $A^* A$ может быть вырожденной в общем случае.\n",
    "- Поэтому нам нужно ввести понятие псевдообратной матрицы $A^{\\dagger}$ такой, что решение задачи наименьших квадратов может быть формально записано как\n",
    "\n",
    "$$x = A^{\\dagger} b.$$\n",
    "\n",
    "- Матрица $$A^{\\dagger} = \\lim_{\\alpha \\rightarrow 0}(\\alpha I + A^* A)^{-1} A^*$$ называется псевдообратной матрицей **Мура-Пенроуза** для матрицы $A$.\n",
    "\n",
    "- Если матрица $A$ имеет полный ранг по столбцам, то $A^* A$ невырождена и мы получаем\n",
    "\n",
    "$$A^{\\dagger} = \\lim_{\\alpha \\rightarrow 0}(\\alpha I + A^* A)^{-1} A^* = (A^* A)^{-1} A^*. $$\n",
    "\n",
    "- Если матрица $A$ квадратная и невырожденная, мы получаем стандартную обратную матрицу $A$:\n",
    "\n",
    "$$A^{\\dagger} = \\lim_{\\alpha \\rightarrow 0}(\\alpha I + A^* A)^{-1} A^* = (A^* A)^{-1} A^* = A^{-1} A^{-*} A^* = A^{-1}$$\n",
    "\n",
    "- Если $A$ имеет линейно зависимые столбцы, то $A^\\dagger b$ дает решение, которое имеет минимальную евклидову норму"
   ]
  },
  {
   "cell_type": "markdown",
   "metadata": {
    "slideshow": {
     "slide_type": "slide"
    }
   },
   "source": [
    "## Вычисление псевдообратной матрицы через SVD\n",
    "Пусть $A = U \\Sigma V^*$ - SVD разложение матрицы $A$. Тогда,\n",
    "\n",
    "$$A^{\\dagger} = V \\Sigma^{\\dagger} U^*,$$\n",
    "\n",
    "где $\\Sigma^{\\dagger}$ состоит из обратных значений ненулевых сингулярных чисел матрицы $A$. Действительно,\n",
    "\n",
    "\\begin{align*}\n",
    "A^{\\dagger} &= \\lim_{\\alpha \\rightarrow 0}(\\alpha I + A^* A)^{-1} A^* = \\lim_{\\alpha \\rightarrow 0}( \\alpha VV^* + V \\Sigma^2 V^*)^{-1} V \\Sigma U^* \\\\ & = \\lim_{\\alpha \\rightarrow 0}( V(\\alpha I + \\Sigma^2) V^*)^{-1} V \\Sigma U^* = V \\lim_{\\alpha \\rightarrow 0}(\\alpha I + \\Sigma^2)^{-1} \\Sigma U^* = V \\Sigma^{\\dagger} U^*.\n",
    "\\end{align*}\n",
    "\n",
    "* Можно проверить, что $\\Sigma^{\\dagger}$ содержит только обратные значения ненулевых сингулярных чисел.\n",
    "* Если сингулярные числа малы, можно пропустить их обращение. Это приведет к решению, которое менее чувствительно к шуму в правой части.\n",
    "* Число обусловленности для евклидовой нормы по-прежнему равно отношению наибольшего и наименьшего ненулевого сингулярного числа."
   ]
  },
  {
   "cell_type": "markdown",
   "metadata": {
    "slideshow": {
     "slide_type": "slide"
    }
   },
   "source": [
    "## Канонический способ решения задачи наименьших квадратов\n",
    "\n",
    "Заключается в использовании $QR$ разложения.\n",
    "\n",
    "- Любая матрица может быть представлена в виде произведения\n",
    "\n",
    "$$ A = Q R, $$\n",
    "\n",
    "где $Q$ - унитарная матрица, а $R$ - верхнетреугольная матрица (подробности в следующих лекциях).\n",
    "\n",
    "- Тогда, если $A$ имеет полный ранг по столбцам, то\n",
    "\n",
    "$$ x = A^{\\dagger}b = (A^*A)^{-1}A^*b = ((QR)^*(QR))^{-1}(QR)^*b = (R^*Q^*QR)^{-1}R^*Q^*b = R^{-1}Q^*b.  $$\n",
    "\n",
    "- Таким образом, нахождение оптимального $x$ эквивалентно решению\n",
    "\n",
    "$$ Rx = Q^* b. $$\n",
    "\n",
    "- Поскольку $R$ верхнетреугольная, решение этой линейной системы требует $\\mathcal{O}(n^2)$ операций.\n",
    "- Также это более устойчиво, чем использование псевдообратной матрицы напрямую."
   ]
  },
  {
   "cell_type": "markdown",
   "metadata": {
    "slideshow": {
     "slide_type": "slide"
    }
   },
   "source": [
    "## Расширение системы до большей размерности\n",
    "\n",
    "- Вместо решения $A^* A x = A^* b$, введем новую переменную $r = Ax - b$ и получим\n",
    "\n",
    "$$A^* r = 0, \\quad r = Ax - b,$$\n",
    "\n",
    "или в блочной форме\n",
    "\n",
    "$$ \\begin{pmatrix} 0 & A^* \\\\ A & -I \\end{pmatrix} \\begin{pmatrix} x \\\\ r \\end{pmatrix} = \\begin{pmatrix} 0 \\\\ b \\end{pmatrix}, $$  \n",
    "\n",
    "общий размер системы равен $(n + m)$, а число обусловленности совпадает с числом обусловленности для $A$\n",
    "- Как определить число обусловленности для прямоугольной матрицы?\n"
   ]
  },
  {
   "cell_type": "markdown",
   "metadata": {
    "slideshow": {
     "slide_type": "slide"
    }
   },
   "source": [
    "## Пример МНК\n",
    "Рассмотрим двумерный пример. Предположим, что у нас есть линейная модель\n",
    "\n",
    "$$y = ax + b$$\n",
    "\n",
    "и зашумленные данные $(x_1, y_1), \\dots (x_n, y_n)$. Тогда линейная система для коэффициентов будет выглядеть следующим образом\n",
    "\n",
    "$$\n",
    "\\begin{split}\n",
    "a x_1 &+ b &= y_1 \\\\\n",
    "&\\vdots \\\\\n",
    "a x_n &+ b &= y_n \\\\\n",
    "\\end{split}\n",
    "$$\n",
    "\n",
    "или в матричной форме\n",
    "\n",
    "$$\n",
    "\\begin{pmatrix}\n",
    "x_1 & 1 \\\\\n",
    "\\vdots & \\vdots \\\\\n",
    "x_n & 1 \\\\\n",
    "\\end{pmatrix}\n",
    "\\begin{pmatrix}\n",
    "a \\\\\n",
    "b\n",
    "\\end{pmatrix} =\n",
    "\\begin{pmatrix}\n",
    "y_1 \\\\\n",
    "\\vdots  \\\\\n",
    "y_n \\\\\n",
    "\\end{pmatrix},\n",
    "$$\n",
    "\n",
    "что представляет собой переопределенную систему."
   ]
  },
  {
   "cell_type": "code",
   "execution_count": 5,
   "metadata": {
    "slideshow": {
     "slide_type": "slide"
    }
   },
   "outputs": [
    {
     "data": {
      "image/png": "[encoded data removed]",
      "text/plain": [
       "<Figure size 432x288 with 1 Axes>"
      ]
     },
     "metadata": {
      "needs_background": "light"
     },
     "output_type": "display_data"
    }
   ],
   "source": [
    "%matplotlib inline\n",
    "import numpy as np\n",
    "import matplotlib.pyplot as plt\n",
    "\n",
    "a_exact = 1.\n",
    "b_exact = 2.\n",
    "\n",
    "n = 10\n",
    "xi = np.arange(n)\n",
    "yi = a_exact * xi + b_exact + 2 * np.random.normal(size=n)\n",
    "\n",
    "A = np.array([xi, np.ones(n)])\n",
    "coef = np.linalg.pinv(A).T.dot(yi) # coef is [a, b]\n",
    "\n",
    "plt.plot(xi, yi, 'o', label='$(x_i, y_i)$')\n",
    "plt.plot(xi, coef[0]*xi + coef[1], label='Least squares')\n",
    "plt.legend(loc='best', fontsize=18)\n",
    "plt.grid(True)"
   ]
  },
  {
   "cell_type": "markdown",
   "metadata": {
    "slideshow": {
     "slide_type": "slide"
    }
   },
   "source": [
    "# Итоги\n",
    "- Линейные системы можно решить методом Гаусса, сложность $\\mathcal{O}(n^3)$.\n",
    " - Линейные системы можно решить с помощью LU-разложения, сложность $\\mathcal{O}(n^3)$ для разложения, $\\mathcal{O}(n^2)$ для каждого решения\n",
    " - Задачу наименьших квадратов можно решить с помощью нормального уравнения (плохо)\n",
    " - Задачу наименьших квадратов можно решить с помощью QR-разложения (хорошо) или с помощью расширения (неплохо)\n",
    "- Без учета структуры мы можем решить до $10^4$ линейных систем на ноутбуке (ограничения памяти)"
   ]
  },
  {
   "cell_type": "markdown",
   "metadata": {
    "slideshow": {
     "slide_type": "slide"
    }
   },
   "source": [
    "## Следующая лекция\n",
    "- Собственные векторы и собственные значения\n",
    "- Теорема Шура"
   ]
  },
  {
   "cell_type": "code",
   "execution_count": 8,
   "metadata": {
    "slideshow": {
     "slide_type": "skip"
    }
   },
   "outputs": [
    {
     "data": {
      "text/html": [
       "<link href='http://fonts.googleapis.com/css?family=Fenix' rel='stylesheet' type='text/css'>\n",
       "<link href='http://fonts.googleapis.com/css?family=Alegreya+Sans:100,300,400,500,700,800,900,100italic,300italic,400italic,500italic,700italic,800italic,900italic' rel='stylesheet' type='text/css'>\n",
       "<link href='http://fonts.googleapis.com/css?family=Source+Code+Pro:300,400' rel='stylesheet' type='text/css'>\n",
       "<style>\n",
       "    @font-face {\n",
       "        font-family: \"Computer Modern\";\n",
       "        src: url('http://mirrors.ctan.org/fonts/cm-unicode/fonts/otf/cmunss.otf');\n",
       "    }\n",
       "    div.cell{\n",
       "        /*width:80%;*/\n",
       "        /*margin-left:auto !important;\n",
       "        margin-right:auto;*/\n",
       "    }\n",
       "    h1 {\n",
       "        font-family: 'Alegreya Sans', sans-serif;\n",
       "    }\n",
       "    h2 {\n",
       "        font-family: 'Fenix', serif;\n",
       "    }\n",
       "    h3{\n",
       "\t\tfont-family: 'Fenix', serif;\n",
       "        margin-top:12px;\n",
       "        margin-bottom: 3px;\n",
       "       }\n",
       "\th4{\n",
       "\t\tfont-family: 'Fenix', serif;\n",
       "       }\n",
       "    h5 {\n",
       "        font-family: 'Alegreya Sans', sans-serif;\n",
       "    }\t   \n",
       "    div.text_cell_render{\n",
       "        font-family: 'Alegreya Sans',Computer Modern, \"Helvetica Neue\", Arial, Helvetica, Geneva, sans-serif;\n",
       "        line-height: 1.2;\n",
       "        font-size: 120%;\n",
       "        /*width:70%;*/\n",
       "        /*margin-left:auto;*/\n",
       "        margin-right:auto;\n",
       "    }\n",
       "    .CodeMirror{\n",
       "            font-family: \"Source Code Pro\";\n",
       "\t\t\tfont-size: 90%;\n",
       "    }\n",
       "/*    .prompt{\n",
       "        display: None;\n",
       "    }*/\n",
       "    .text_cell_render h1 {\n",
       "        font-weight: 200;\n",
       "        font-size: 50pt;\n",
       "\t\tline-height: 110%;\n",
       "        color:#CD2305;\n",
       "        margin-bottom: 0.5em;\n",
       "        margin-top: 0.5em;\n",
       "        display: block;\n",
       "    }\t\n",
       "    .text_cell_render h5 {\n",
       "        font-weight: 300;\n",
       "        font-size: 16pt;\n",
       "        color: #CD2305;\n",
       "        font-style: italic;\n",
       "        margin-bottom: .5em;\n",
       "        margin-top: 0.5em;\n",
       "        display: block;\n",
       "    }\n",
       "    \n",
       "    li {\n",
       "        line-height: 110%;\n",
       "    }\n",
       "    .warning{\n",
       "        color: rgb( 240, 20, 20 )\n",
       "        }  \n",
       "\n",
       "</style>\n",
       "\n",
       "<script>\n",
       "    MathJax.Hub.Config({\n",
       "                        TeX: {\n",
       "                           extensions: [\"AMSmath.js\"]\n",
       "                           },\n",
       "                tex2jax: {\n",
       "                    inlineMath: [ ['$','$'], [\"\\\\(\",\"\\\\)\"] ],\n",
       "                    displayMath: [ ['$$','$$'], [\"\\\\[\",\"\\\\]\"] ]\n",
       "                },\n",
       "                displayAlign: 'center', // Change this to 'center' to center equations.\n",
       "                \"HTML-CSS\": {\n",
       "                    styles: {'.MathJax_Display': {\"margin\": 4}}\n",
       "                }\n",
       "        });\n",
       "</script>\n"
      ],
      "text/plain": [
       "<IPython.core.display.HTML object>"
      ]
     },
     "execution_count": 8,
     "metadata": {},
     "output_type": "execute_result"
    }
   ],
   "source": [
    "from IPython.core.display import HTML\n",
    "def css_styling():\n",
    "    styles = open(\"../styles/custom.css\", \"r\").read()\n",
    "    return HTML(styles)\n",
    "css_styling()"
   ]
  }
 ],
 "metadata": {
  "anaconda-cloud": {},
  "celltoolbar": "Slideshow",
  "kernelspec": {
   "display_name": "Python 3 (ipykernel)",
   "language": "python",
   "name": "python3"
  },
  "language_info": {
   "codemirror_mode": {
    "name": "ipython",
    "version": 3
   },
   "file_extension": ".py",
   "mimetype": "text/x-python",
   "name": "python",
   "nbconvert_exporter": "python",
   "pygments_lexer": "ipython3",
   "version": "3.10.15"
  },
  "nav_menu": {},
  "rise": {
   "scroll": true,
   "theme": "sky",
   "transition": "zoom"
  },
  "toc": {
   "navigate_menu": true,
   "number_sections": false,
   "sideBar": true,
   "threshold": 6,
   "toc_cell": false,
   "toc_section_display": "block",
   "toc_window_display": false
  }
 },
 "nbformat": 4,
 "nbformat_minor": 1
}
