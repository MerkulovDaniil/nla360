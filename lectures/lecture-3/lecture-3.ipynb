{
 "cells": [
  {
   "cell_type": "markdown",
   "metadata": {
    "code_folding": [
     1
    ],
    "slideshow": {
     "slide_type": "slide"
    }
   },
   "source": [
    "# Лекция 3: Ранг матрицы, аппроксимация низкого ранга, SVD"
   ]
  },
  {
   "cell_type": "markdown",
   "metadata": {
    "slideshow": {
     "slide_type": "slide"
    }
   },
   "source": [
    "## Предыдущая лекция\n",
    "\n",
    "- Пиковая производительность алгоритма\n",
    "- Сложность алгоритмов умножения матриц\n",
    "- Идея блочного разбиения (почему это хорошо?)"
   ]
  },
  {
   "cell_type": "markdown",
   "metadata": {
    "slideshow": {
     "slide_type": "slide"
    }
   },
   "source": [
    "## Сегодняшняя лекция\n",
    "- Ранг матрицы\n",
    "- Скелетное разложение\n",
    "- Аппроксимация низкого ранга\n",
    "- Сингулярное разложение (SVD)\n",
    "- Применения SVD"
   ]
  },
  {
   "cell_type": "markdown",
   "metadata": {
    "slideshow": {
     "slide_type": "slide"
    }
   },
   "source": [
    "## Матрицы и линейные пространства\n",
    "- Матрицу можно рассматривать как последовательность векторов, которые являются столбцами матрицы:\n",
    "\n",
    "$$ A = [a_1, \\ldots, a_m], $$\n",
    "\n",
    "где $a_m \\in \\mathbb{C}^{n\\times 1}$.  \n",
    "\n",
    "- Произведение матрицы на вектор эквивалентно взятию линейной комбинации этих столбцов \n",
    "\n",
    "$$ y =  Ax \\quad \\Longleftrightarrow \\quad y = a_1 x_1 + a_2 x_2 + \\ldots +a_m x_m. $$\n",
    "\n",
    "- Это частный случай **блочной матричной нотации** (столбцы также являются блоками), которую мы уже видели (разбиение на блоки для соответствия кэш-памяти, алгоритм Штрассена)."
   ]
  },
  {
   "cell_type": "markdown",
   "metadata": {
    "slideshow": {
     "slide_type": "slide"
    }
   },
   "source": [
    "## Линейная зависимость\n",
    "\n",
    "**Определение.** Векторы $a_i$ называются **линейно зависимыми**, если существуют одновременно ненулевые коэффициенты $x_i$ такие, что  \n",
    "\n",
    "$$\\sum_i a_i x_i = 0,$$\n",
    "\n",
    "или в матричной форме\n",
    "\n",
    "$$ Ax = 0, \\quad \\Vert x \\Vert \\ne 0. $$\n",
    "\n",
    "В этом случае мы говорим, что матрица $A$ имеет нетривиальное **нуль-пространство** (или **ядро**), обозначаемое $N(A)$ (или $\\text{ker}(A)$).\n",
    "\n",
    "Векторы, которые не являются линейно зависимыми, называются **линейно независимыми**."
   ]
  },
  {
   "cell_type": "markdown",
   "metadata": {
    "slideshow": {
     "slide_type": "slide"
    }
   },
   "source": [
    "## Линейное (векторное) пространство\n",
    "**Линейное пространство**, натянутое на векторы $\\{a_1, \\ldots, a_m\\}$, определяется как множество всех возможных векторов вида \n",
    "\n",
    "$$ \\mathcal{L}(a_1, \\ldots, a_m) = \\left\\{y: y = \\sum_{i=1}^m a_i x_i, \\, \\forall x_i, \\, i=1,\\dots, n \\right\\}, $$\n",
    "\n",
    "В матричной форме линейное пространство - это множество всех $y$ таких, что \n",
    "\n",
    "$$y = A x.$$\n",
    "\n",
    "Это множество также называется **областью значений** (или **образом**) матрицы, обозначаемой $\\text{range}(A)$ (или $\\text{im}(A)$) соответственно.\n"
   ]
  },
  {
   "cell_type": "markdown",
   "metadata": {
    "slideshow": {
     "slide_type": "slide"
    }
   },
   "source": [
    "## Размерность линейного пространства\n",
    "\n",
    "- Размерность линейного пространства $\\text{im}(A)$, обозначаемая как $\\text{dim}\\, \\text{im} (A)$, это минимальное количество векторов, необходимых для представления каждого вектора из $\\text{im} (A)$.\n",
    "\n",
    "- Размерность $\\text{im}(A)$ имеет прямую связь с **рангом матрицы**.\n"
   ]
  },
  {
   "cell_type": "markdown",
   "metadata": {
    "slideshow": {
     "slide_type": "slide"
    }
   },
   "source": [
    "## Ранг матрицы\n",
    "\n",
    "- Ранг матрицы $A$ - это максимальное число линейно независимых *столбцов* в матрице $A$, или **размерность пространства столбцов** $= \\text{dim} \\, \\text{im}(A)$.  \n",
    "\n",
    "- Вы также можете использовать линейные комбинации *строк* для определения ранга, т.е. формально существуют два ранга: столбцовый ранг и строчный ранг матрицы."
   ]
  },
  {
   "cell_type": "markdown",
   "metadata": {
    "slideshow": {
     "slide_type": "slide"
    }
   },
   "source": [
    "**Теорема**  \n",
    "Размерность пространства столбцов матрицы равна размерности пространства её строк.\n",
    "\n",
    "[Доказательство](https://ocw.mit.edu/courses/mathematics/18-701-algebra-i-fall-2010/study-materials/MIT18_701F10_rrk_crk.pdf)\n",
    "\n",
    "- В матричной форме этот факт можно записать как $\\mathrm{dim}\\ \\mathrm{im} (A) = \\mathrm{dim}\\ \\mathrm{im} (A^\\top)$.\n",
    "\n",
    "- Таким образом, существует единственный ранг!"
   ]
  },
  {
   "cell_type": "markdown",
   "metadata": {
    "slideshow": {
     "slide_type": "slide"
    }
   },
   "source": [
    "## Матрица полного ранга\n",
    "\n",
    "- Матрица $A \\in \\mathbb{R}^{m \\times n}$ называется матрицей **полного ранга**, если $\\mathrm{rank}(A) = \\min(m, n)$."
   ]
  },
  {
   "cell_type": "markdown",
   "metadata": {
    "slideshow": {
     "slide_type": "slide"
    }
   },
   "source": [
    "Предположим, у нас есть линейное пространство, порожденное $n$ векторами.\n",
    "Пусть эти векторы случайны, с элементами из стандартного нормального распределения $\\mathcal{N}(0, 1)$.\n",
    "\n",
    "**В**: Какова вероятность того, что это подпространство имеет размерность $m < n$?\n",
    "\n",
    "**О**: Случайная матрица имеет полный ранг с вероятностью 1."
   ]
  },
  {
   "cell_type": "markdown",
   "metadata": {
    "slideshow": {
     "slide_type": "slide"
    }
   },
   "source": [
    "## Скелетное разложение\n",
    "\n",
    "Очень полезным представлением для вычисления ранга матрицы является **скелетное разложение**, которое тесно связано с рангом.\n",
    "Это разложение объясняет, почему и как матрицы низкого ранга могут быть сжаты.\n",
    "\n",
    "Его можно графически представить следующим образом:  \n",
    "<img src=\"./skeleton.png\" width='90%'>\n",
    "или в матричной форме\n",
    "\n",
    "$$ A = C \\widehat{A}^{-1} R, $$\n",
    "\n",
    "где $C$ - это некоторые $k=\\mathrm{rank}(A)$ столбцов матрицы $A$, $R$ - некоторые $k$ строк матрицы $A$, а $\\widehat{A}$ - **невырожденная** подматрица на их пересечении."
   ]
  },
  {
   "cell_type": "markdown",
   "metadata": {
    "slideshow": {
     "slide_type": "slide"
    }
   },
   "source": [
    "### Замечание\n",
    "\n",
    "Мы еще формально не определили обратную матрицу, поэтому напомним:\n",
    "\n",
    "- Обратной матрицей для матрицы $P$ является матрица $Q = P^{-1}$ такая, что $P Q = QP = I$.\n",
    "- Если матрица квадратная и имеет полный ранг, то обратная матрица существует."
   ]
  },
  {
   "cell_type": "markdown",
   "metadata": {
    "slideshow": {
     "slide_type": "slide"
    }
   },
   "source": [
    "### Доказательство скелетного разложения\n",
    "* Пусть $C\\in \\mathbb{C}^{n\\times k}$ - это $k$ столбцов, основанных на невырожденной подматрице $\\widehat{A}$. Следовательно, они линейно независимы.\n",
    "* Возьмем любой другой столбец $a_i$ матрицы $A$. Тогда $a_i$ можно представить как линейную комбинацию столбцов $C$, т.е. $a_i = C x_i$, где $x_i$ - вектор коэффициентов.\n",
    "\n",
    "* $a_i = C x_i$ - это $n$ уравнений. Мы берем $k$ уравнений из них, соответствующих строкам, содержащим $\\widehat{A}$, и получаем уравнение\n",
    "\n",
    "$$\\widehat{r}_i = \\widehat{A} x_i \\quad \\Longrightarrow \\quad x_i = \\widehat{A}^{-1} \\widehat r_i$$\n",
    "\n",
    "Таким образом, $a_i = C\\widehat{A}^{-1} \\widehat r_i$ для каждого $i$ и\n",
    "\n",
    "$$A = [a_1,\\dots, a_m] = C\\widehat{A}^{-1} R.$$"
   ]
  },
  {
   "cell_type": "markdown",
   "metadata": {
    "slideshow": {
     "slide_type": "slide"
    }
   },
   "source": [
    "### Более подробный взгляд на скелетное разложение\n",
    "\n",
    "- Любая матрица ранга $r$ может быть записана в форме\n",
    "\n",
    "$$A = C \\widehat{A}^{-1} R,$$\n",
    "\n",
    "где $C$ имеет размер $n \\times r$, $R$ имеет размер $r \\times m$ и $\\widehat{A}$ имеет размер $r \\times r$, или \n",
    "\n",
    "$$ A = UV, $$\n",
    "\n",
    "где $U$ и $V$ не являются уникальными, например, $U = C \\widehat{A}^{-1}$, $V=R$.\n",
    "\n",
    "- Форма $A = U V$ является стандартной для скелетного разложения.\n",
    "\n",
    "- Таким образом, каждая матрица ранга $r$ может быть записана как произведение \"тонкой\" (\"высокой\") матрицы $U$ на \"широкую\" (\"короткую\") матрицу $V$."
   ]
  },
  {
   "cell_type": "markdown",
   "metadata": {
    "slideshow": {
     "slide_type": "slide"
    }
   },
   "source": [
    "В индексной форме это\n",
    "\n",
    "$$ a_{ij} = \\sum_{\\alpha=1}^r u_{i \\alpha} v_{\\alpha j}. $$\n",
    "\n",
    "Для ранга 1 имеем\n",
    "\n",
    "$$ a_{ij} = u_i v_j, $$\n",
    "\n",
    "т.е. это разделение индексов, и матрица ранга $r$ является суммой матриц ранга $1$!"
   ]
  },
  {
   "cell_type": "markdown",
   "metadata": {
    "slideshow": {
     "slide_type": "slide"
    }
   },
   "source": [
    "### Хранение\n",
    "Интересно отметить, что для матрицы ранга $r$ \n",
    "\n",
    "$$A = U V$$\n",
    "\n",
    "можно хранить только $U$ и $V$, что дает нам $(n+m) r$ параметров, поэтому это может использоваться для сжатия. Мы также можем вычислять произведение матрицы на вектор $Ax$ гораздо быстрее:\n",
    "\n",
    "* Умножение $y = Vx$ требует $\\mathcal{O}(mr)$ операций.\n",
    "* Умножение $z = Uy$ требует $\\mathcal{O}(nr)$ операций.\n",
    "\n",
    "То же самое работает для сложения, поэлементного умножения и т.д.\n",
    "Для сложения:\n",
    "\n",
    "$$    A_1 + A_2 = U_1 V_1 + U_2 V_2 = [U_1|U_2] [V_1^\\top|V_2^\\top]^\\top $$"
   ]
  },
  {
   "cell_type": "code",
   "execution_count": 1,
   "metadata": {
    "slideshow": {
     "slide_type": "slide"
    }
   },
   "outputs": [
    {
     "name": "stdout",
     "output_type": "stream",
     "text": [
      "204.8\n",
      "2.32 ms ± 101 μs per loop (mean ± std. dev. of 7 runs, 100 loops each)\n",
      "29.5 μs ± 73.5 ns per loop (mean ± std. dev. of 7 runs, 10,000 loops each)\n"
     ]
    }
   ],
   "source": [
    "#A fast matrix-by-vector product demo\n",
    "import numpy as np\n",
    "n = 4096\n",
    "r = 10\n",
    "u = np.random.normal(size=(n, r))\n",
    "v = np.random.normal(size=(n, r))\n",
    "a = u @ v.T\n",
    "x = np.random.normal(size=(n,))\n",
    "print(n*n/(2*n*r))\n",
    "%timeit a @ x\n",
    "%timeit u @ (v.T @ x)"
   ]
  },
  {
   "cell_type": "markdown",
   "metadata": {
    "slideshow": {
     "slide_type": "slide"
    }
   },
   "source": [
    "## Computing matrix rank\n",
    "We can also try to compute the matrix rank using the built-in ```jnp.linalg.matrix_rank``` function"
   ]
  },
  {
   "cell_type": "code",
   "execution_count": 2,
   "metadata": {
    "slideshow": {
     "slide_type": "slide"
    }
   },
   "outputs": [
    {
     "name": "stdout",
     "output_type": "stream",
     "text": [
      "Rank of the matrix: 1\n",
      "Rank of the matrix: 9\n"
     ]
    }
   ],
   "source": [
    "#Computing matrix rank\n",
    "import numpy as np\n",
    "n = 50 \n",
    "a = np.ones((n, n))\n",
    "print('Rank of the matrix:', np.linalg.matrix_rank(a))\n",
    "b = a + 1e-8 * np.random.randn(*a.shape)\n",
    "print('Rank of the matrix:', np.linalg.matrix_rank(b, tol=1e-7))"
   ]
  },
  {
   "cell_type": "markdown",
   "metadata": {
    "slideshow": {
     "slide_type": "slide"
    }
   },
   "source": [
    "<font color='red'> Таким образом, малые возмущения могут существенно влиять на ранг! </font>"
   ]
  },
  {
   "cell_type": "markdown",
   "metadata": {
    "slideshow": {
     "slide_type": "slide"
    }
   },
   "source": [
    "### Неустойчивость ранга матрицы\n",
    "Для любой матрицы $A$ ранга $r$ с $r < \\min(m, n)$ существует матрица $B$ такая, что ее ранг равен $\\min(m, n)$ и\n",
    "\n",
    "$$ \\Vert A - B \\Vert = \\epsilon. $$\n",
    "\n",
    "**Вопрос**: Означает ли это, что численно ранг матрицы не имеет смысла? (То есть, малые возмущения приводят к полному рангу!)\n",
    "\n",
    "**Ответ**: Нет. Мы должны найти матрицу $B$ такую, что $\\|A-B\\| = \\epsilon$ и $B$ имеет минимальный ранг. Поэтому мы можем вычислить ранг только с заданной точностью $\\epsilon$.\n",
    "Одним из подходов к вычислению ранга матрицы $r$ является SVD."
   ]
  },
  {
   "cell_type": "markdown",
   "metadata": {
    "slideshow": {
     "slide_type": "slide"
    }
   },
   "source": [
    "## Аппроксимация низкого ранга\n",
    "\n",
    "Важной задачей во многих приложениях является нахождение аппроксимации низкого ранга для заданной матрицы с заданной точностью $\\epsilon$ или рангом $r$. <br>\n",
    "Примеры:\n",
    "* анализ главных компонент\n",
    "* рекомендательные системы\n",
    "* метод наименьших квадратов\n",
    "* сжатие нейронных сетей\n",
    "\n",
    "Эти задачи могут быть решены с помощью SVD."
   ]
  },
  {
   "cell_type": "markdown",
   "metadata": {
    "slideshow": {
     "slide_type": "slide"
    }
   },
   "source": [
    "## Сингулярное разложение\n",
    "Для вычисления аппроксимации низкого ранга нам необходимо вычислить **сингулярное разложение** (SVD).\n",
    "\n",
    "**Теорема** Любая матрица $A\\in \\mathbb{C}^{n\\times m}$ может быть представлена как произведение трех матриц:  \n",
    "\n",
    "$$ A = U \\Sigma V^*, $$\n",
    "\n",
    "где \n",
    "- $U$ - унитарная матрица размера $n \\times K$, \n",
    "- $V$ - унитарная матрица размера $m \\times K$, $K = \\min(m, n)$,\n",
    "- $\\Sigma$ - диагональная матрица с неотрицательными элементами $\\sigma_1 \\geq  \\ldots, \\geq \\sigma_K$ на диагонали. \n",
    "- Более того, если $\\text{rank}(A) = r$, то $\\sigma_{r+1} = \\dots = \\sigma_K = 0$."
   ]
  },
  {
   "cell_type": "markdown",
   "metadata": {
    "slideshow": {
     "slide_type": "slide"
    }
   },
   "source": [
    "### Доказательство\n",
    "* Матрица $A^*A$ является эрмитовой, следовательно, диагонализируема в унитарном базисе (будет обсуждаться далее в курсе).\n",
    "* $A^*A\\geq0$ (неотрицательно определена), поэтому собственные значения неотрицательны.\n",
    "Следовательно, существует унитарная матрица $V = [v_1, \\dots, v_n]$ такая, что\n",
    "\n",
    "$$ V^* A^* A V = \\text{diag}(\\sigma_1^2,\\dots, \\sigma_n^2), \\quad \\sigma_1\\geq \\sigma_2\\geq \\dots \\geq \\sigma_n. $$\n",
    "\n",
    "Пусть $\\sigma_i = 0$ для $i>r$, где $r$ - некоторое целое число. <br>\n",
    "Пусть $V_r= [v_1, \\dots, v_r]$, $\\Sigma_r = \\text{diag}(\\sigma_1, \\dots,\\sigma_r)$. Следовательно\n",
    "\n",
    "$$ V^*_r A^* A V_r = \\Sigma_r^2 \\quad \\Longrightarrow \\quad (\\Sigma_r^{-1} V_r^* A^*) (A V_r\\Sigma_r^{-1} ) = I. $$\n",
    "\n",
    "В результате, матрица $U_r = A V_r\\Sigma_r^{-1}$ удовлетворяет $U_r^* U_r = I$ и, следовательно, имеет ортогональные столбцы. <br>\n",
    "Добавим к $U_r$ любые ортогональные столбцы, которые ортогональны столбцам в $U_r$, и обозначим эту матрицу как $U$.\n",
    "Тогда\n",
    "\n",
    "$$ AV = U \\begin{bmatrix} \\Sigma_r & 0 \\\\ 0 & 0 \\end{bmatrix}\\quad \\Longrightarrow \\quad U^* A V = \\begin{bmatrix}\\Sigma_r & 0 \\\\ 0 & 0 \\end{bmatrix}.\n",
    "$$\n",
    "\n",
    "Поскольку умножение на невырожденные матрицы не меняет ранг $A$, мы имеем $r = \\text{rank}(A)$."
   ]
  },
  {
   "cell_type": "markdown",
   "metadata": {
    "slideshow": {
     "slide_type": "slide"
    }
   },
   "source": [
    "**Следствие 1**: $A = \\displaystyle{\\sum_{\\alpha=1}^r} \\sigma_\\alpha u_\\alpha v_\\alpha^*$ или поэлементно $a_{ij} = \\displaystyle{\\sum_{\\alpha=1}^r} \\sigma_\\alpha u_{i\\alpha} \\overline{v}_{j\\alpha}$\n",
    "\n",
    "**Следствие 2**: $$\\text{ker}(A) = \\mathcal{L}\\{v_{r+1},\\dots,v_n\\}$$\n",
    "\n",
    "$$\\text{im}(A) = \\mathcal{L}\\{u_{1},\\dots,u_r\\}$$\n",
    "\n",
    "$$\\text{ker}(A^*) = \\mathcal{L}\\{u_{r+1},\\dots,u_n\\}$$\n",
    "\n",
    "$$\\text{im}(A^*) = \\mathcal{L}\\{v_{1},\\dots,v_r\\}$$"
   ]
  },
  {
   "cell_type": "markdown",
   "metadata": {
    "slideshow": {
     "slide_type": "slide"
    }
   },
   "source": [
    "## Теорема Экарта-Янга\n",
    "\n",
    "Наилучшее приближение низкого ранга может быть вычислено с помощью SVD.\n",
    "\n",
    "**Теорема:** Пусть $r < \\text{rank}(A)$, $A_r = U_r \\Sigma_r V_r^*$. Тогда\n",
    "\n",
    "$$ \\min_{\\text{rank}(B)=r} \\|A - B\\|_2 = \\|A - A_r\\|_2 = \\sigma_{r+1}. $$\n",
    "\n",
    "То же самое верно для $\\|\\cdot\\|_F$, но $\\|A - A_r\\|_F = \\sqrt{\\sigma_{r+1}^2 + \\dots + \\sigma_{\\min (n,m)}^2}$."
   ]
  },
  {
   "cell_type": "markdown",
   "metadata": {
    "slideshow": {
     "slide_type": "slide"
    }
   },
   "source": [
    "## Доказательство  \n",
    "\n",
    "- Поскольку $\\text{rank} (B) = r$, то $\\text{dim}~\\text{ker}~B = n-r$. \n",
    "- Следовательно, существует $z\\not=0$ такой, что $z\\in \\text{ker}(B) \\cap \\mathcal{L}(v_1,\\dots,v_{r+1})$ (так как $\\text{dim}\\{v_1,\\dots,v_{r+1}\\} = r+1$).\n",
    "- Зафиксируем $\\|z\\| = 1$. Тогда,\n",
    "\n",
    "$$ \\|A-B\\|_2^2 \\geq \\|(A-B)z\\|_2^2 = \\|Az\\|_2^2 = \\| U\\Sigma V^* z\\|^2_2= \\|\\Sigma V^* z\\|^2_2 = \\sum_{i=1}^{n} \\sigma_i^2 (v_i^*z)^2 =\\sum_{i=1}^{r+1} \\sigma_i^2 (v_i^*z)^2 \\geq \\sigma_{r+1}^2\\sum_{i=1}^{r+1} (v_i^*z)^2 = \\sigma_{r+1}^2 $$\n",
    "\n",
    "так как $\\sigma_1\\geq \\dots \\geq \\sigma_{r+1}$ и $$\\sum_{i=1}^{r+1} (v_i^*z)^2 = \\|V^*z\\|_2^2 = \\|z\\|_2^2 = 1.$$"
   ]
  },
  {
   "cell_type": "markdown",
   "metadata": {
    "slideshow": {
     "slide_type": "slide"
    }
   },
   "source": [
    "## Основной результат о приближении низкого ранга\n",
    "\n",
    "**Следствие:** вычисление наилучшего приближения ранга $r$ эквивалентно установке $\\sigma_{r+1}= 0, \\ldots, \\sigma_K = 0$. Ошибка \n",
    "\n",
    "$$ \\min_{A_r} \\Vert A - A_r \\Vert_2 = \\sigma_{r+1}, \\quad \\min_{A_r} \\Vert A - A_r \\Vert_F = \\sqrt{\\sigma_{r+1}^2 + \\dots + \\sigma_{K}^2} $$\n",
    "\n",
    "вот почему важно смотреть на скорость убывания сингулярных значений."
   ]
  },
  {
   "cell_type": "markdown",
   "metadata": {
    "slideshow": {
     "slide_type": "slide"
    }
   },
   "source": [
    "## Вычисление SVD\n",
    "\n",
    "- Алгоритмы для вычисления SVD сложны и будут обсуждаться позже.\n",
    "\n",
    "- Но для численных расчетов мы уже можем использовать NumPy, JAX или PyTorch!\n",
    "\n",
    "Вернемся к предыдущему примеру"
   ]
  },
  {
   "cell_type": "code",
   "execution_count": 3,
   "metadata": {
    "slideshow": {
     "slide_type": "slide"
    }
   },
   "outputs": [
    {
     "name": "stdout",
     "output_type": "stream",
     "text": [
      "Rank of the matrix: 1\n",
      "Rank of the matrix: 50\n"
     ]
    }
   ],
   "source": [
    "#Computing matrix rank\n",
    "import numpy as np\n",
    "n = 50 \n",
    "a = np.ones((n, n))\n",
    "print('Rank of the matrix:', np.linalg.matrix_rank(a))\n",
    "b = a + 1e-5 * np.random.randn(*a.shape)\n",
    "print('Rank of the matrix:', np.linalg.matrix_rank(b, tol=1e-7))"
   ]
  },
  {
   "cell_type": "code",
   "execution_count": 4,
   "metadata": {
    "slideshow": {
     "slide_type": "slide"
    }
   },
   "outputs": [
    {
     "name": "stdout",
     "output_type": "stream",
     "text": [
      "[1.00000000e+00 2.67591794e-06 2.56509433e-06 2.44789428e-06\n",
      " 2.37455067e-06 2.29593994e-06 2.28815285e-06 2.23799065e-06\n",
      " 2.05935979e-06 2.03632846e-06 1.99639422e-06 1.91341245e-06\n",
      " 1.83976105e-06 1.81660880e-06 1.74749549e-06 1.73011845e-06\n",
      " 1.64795628e-06 1.58936685e-06 1.52344312e-06 1.46849377e-06\n",
      " 1.41976378e-06 1.36738146e-06 1.32423364e-06 1.25094325e-06\n",
      " 1.20823796e-06 1.16024742e-06 1.08756172e-06 9.81247385e-07\n",
      " 9.32616886e-07 9.20283514e-07 8.93963429e-07 8.53777806e-07\n",
      " 8.01564035e-07 7.62399924e-07 7.12964817e-07 6.77836503e-07\n",
      " 6.64178420e-07 5.63347485e-07 5.17310367e-07 4.72905832e-07\n",
      " 4.24444379e-07 3.68835674e-07 3.07482216e-07 2.90162960e-07\n",
      " 2.44707429e-07 2.04581052e-07 1.82253444e-07 8.90398610e-08\n",
      " 7.58352672e-08 1.85055347e-08]\n",
      "2.675917943198842e-06\n",
      "2.6759179431971288e-06\n"
     ]
    }
   ],
   "source": [
    "u, s, v = np.linalg.svd(b) #b = u@jnp.diag(s)@v \n",
    "print(s/s[0])\n",
    "print(s[1]/s[0])\n",
    "r = 1\n",
    "u1 = u[:, :r]\n",
    "s1 = s[:r]\n",
    "v1 = v[:r, :]\n",
    "a1 = u1.dot(np.diag(s1).dot(v1))\n",
    "print(np.linalg.norm(b - a1, 2)/s[0])"
   ]
  },
  {
   "cell_type": "code",
   "execution_count": 5,
   "metadata": {
    "slideshow": {
     "slide_type": "slide"
    }
   },
   "outputs": [
    {
     "name": "stdout",
     "output_type": "stream",
     "text": [
      "-3.141592653589793\n"
     ]
    },
    {
     "data": {
      "text/plain": [
       "array([2.78854542e+00, 1.20190215e+00, 3.30044974e-01, 7.54479752e-02,\n",
       "       1.55399551e-02, 2.95394532e-03, 5.24245757e-04, 8.75037081e-05,\n",
       "       1.38080403e-05, 2.06801794e-06, 2.94871204e-07, 4.01282821e-08,\n",
       "       5.22283426e-09, 6.51260216e-10, 7.79183059e-11, 8.95604200e-12,\n",
       "       9.90072462e-13, 1.05370075e-13, 1.08052502e-14, 1.07049842e-15,\n",
       "       2.21741581e-16, 2.21741581e-16, 2.21741581e-16, 2.21741581e-16,\n",
       "       2.21741581e-16, 2.21741581e-16, 2.21741581e-16, 2.21741581e-16,\n",
       "       2.21741581e-16, 2.21741581e-16, 2.21741581e-16, 2.21741581e-16,\n",
       "       2.21741581e-16, 2.21741581e-16, 2.21741581e-16, 2.21741581e-16,\n",
       "       2.21741581e-16, 2.21741581e-16, 2.21741581e-16, 2.21741581e-16,\n",
       "       2.21741581e-16, 2.21741581e-16, 2.21741581e-16, 2.21741581e-16,\n",
       "       2.21741581e-16, 2.21741581e-16, 2.21741581e-16, 2.21741581e-16,\n",
       "       2.21741581e-16, 2.21741581e-16, 2.21741581e-16, 2.21741581e-16,\n",
       "       2.21741581e-16, 2.21741581e-16, 2.21741581e-16, 2.21741581e-16,\n",
       "       2.21741581e-16, 2.21741581e-16, 2.21741581e-16, 2.21741581e-16,\n",
       "       2.21741581e-16, 2.21741581e-16, 2.21741581e-16, 2.21741581e-16,\n",
       "       2.21741581e-16, 2.21741581e-16, 2.21741581e-16, 2.21741581e-16,\n",
       "       2.21741581e-16, 2.21741581e-16, 2.21741581e-16, 2.21741581e-16,\n",
       "       2.21741581e-16, 2.21741581e-16, 2.21741581e-16, 2.21741581e-16,\n",
       "       2.21741581e-16, 2.21741581e-16, 2.21741581e-16, 2.21741581e-16,\n",
       "       2.21741581e-16, 2.21741581e-16, 2.21741581e-16, 2.21741581e-16,\n",
       "       2.21741581e-16, 2.21741581e-16, 2.21741581e-16, 2.21741581e-16,\n",
       "       2.21741581e-16, 2.21741581e-16, 2.21741581e-16, 2.21741581e-16,\n",
       "       2.21741581e-16, 2.21741581e-16, 2.21741581e-16, 2.21741581e-16,\n",
       "       2.21741581e-16, 2.21741581e-16, 2.21741581e-16, 2.10320773e-16])"
      ]
     },
     "execution_count": 5,
     "metadata": {},
     "output_type": "execute_result"
    },
    {
     "data": {
      "image/png": "[encoded data removed]",
      "text/plain": [
       "<Figure size 640x480 with 1 Axes>"
      ]
     },
     "metadata": {},
     "output_type": "display_data"
    }
   ],
   "source": [
    "%matplotlib inline\n",
    "import numpy as np\n",
    "import matplotlib.pyplot as plt\n",
    "plt.rc(\"text\", usetex=False)\n",
    "\n",
    "n = 100\n",
    "a = [[1.0/(i+j+0.5) for i in range(n)] for j in range(n)] #Hilbert matrix \n",
    "da = np.array(a)\n",
    "u, s, v = np.linalg.svd(a)\n",
    "print(s[50] - np.pi)\n",
    "plt.plot(s[:30], 'x')\n",
    "s\n",
    "#plt.ylabel(r\"$\\sigma_i / \\sigma_0$\", fontsize=24)\n",
    "#plt.xlabel(r\"Singular value index, $i$\", fontsize=24)\n",
    "# plt.grid(True)\n",
    "# plt.xticks(fontsize=26)\n",
    "# plt.yticks(fontsize=26)\n",
    "# #We have very good low-rank approximation of it!"
   ]
  },
  {
   "cell_type": "markdown",
   "metadata": {
    "slideshow": {
     "slide_type": "slide"
    }
   },
   "source": [
    "## Линейный факторный анализ и низкий ранг\n",
    "Рассмотрим линейную факторную модель, \n",
    "\n",
    "$$y = Ax, $$ \n",
    "\n",
    "где $y$ - вектор длины $n$, а $x$ - вектор длины $r$.  \n",
    "Данные организованы в виде выборок: мы наблюдаем векторы  \n",
    "\n",
    "$$y_1, \\ldots, y_T,$$\n",
    "\n",
    "но не знаем матрицу $A$,\n",
    "тогда факторная модель может быть записана как  \n",
    "\n",
    "$$\n",
    "  Y = AX,\n",
    "$$\n",
    "\n",
    "где $Y$ имеет размер $n \\times T$, $A$ имеет размер $n \\times r$ и $X$ имеет размер $r \\times T$. \n",
    "\n",
    "- Это в точности модель ранга $r$: она говорит нам, что векторы лежат в малом подпространстве.\n",
    "- Мы также можем использовать SVD для восстановления этого подпространства (но не независимых компонент). \n",
    "- Анализ главных компонент может быть выполнен с помощью SVD, посмотрите реализацию в [пакете sklearn](https://github.com/scikit-learn/scikit-learn/blob/0d378913be6d7e485b792ea36e9268be31ed52d0/sklearn/decomposition/_pca.py#L465)."
   ]
  },
  {
   "cell_type": "markdown",
   "metadata": {
    "slideshow": {
     "slide_type": "slide"
    }
   },
   "source": [
    "## Применения SVD\n",
    "\n",
    "- SVD чрезвычайно важен в вычислительной науке и инженерии.\n",
    "\n",
    "- Он имеет много названий: Анализ главных компонент, Правильное ортогональное разложение, Эмпирические ортогональные функции\n",
    "\n",
    "- Теперь мы рассмотрим сжатие **плотных** матриц и метод активных подпространств"
   ]
  },
  {
   "cell_type": "markdown",
   "metadata": {
    "slideshow": {
     "slide_type": "slide"
    }
   },
   "source": [
    "## Сжатие плотных матриц\n",
    " \n",
    " Плотные матрицы обычно требуют хранения $N^2$ элементов. Аппроксимация ранга-$r$ может уменьшить это число до $\\mathcal{O}(Nr)$"
   ]
  },
  {
   "cell_type": "code",
   "execution_count": 10,
   "metadata": {
    "slideshow": {
     "slide_type": "slide"
    }
   },
   "outputs": [
    {
     "data": {
      "image/png": "[encoded data removed]",
      "text/plain": [
       "<Figure size 1000x600 with 1 Axes>"
      ]
     },
     "metadata": {},
     "output_type": "display_data"
    }
   ],
   "source": [
    "import numpy as np\n",
    "%matplotlib inline\n",
    "import matplotlib.pyplot as plt\n",
    "import seaborn as sns\n",
    "\n",
    "# Set the style for a more beautiful plot\n",
    "sns.set_style(\"whitegrid\")\n",
    "plt.figure(figsize=(10, 6))\n",
    "\n",
    "# Generate the matrix\n",
    "n = 256\n",
    "a = [[1.0/(i - j + 0.5) for i in range(n)] for j in range(n)]\n",
    "a = np.array(a)\n",
    "\n",
    "# Compute SVD\n",
    "u, s, v = np.linalg.svd(a[n//2:, :n//2])\n",
    "\n",
    "# Plot singular values\n",
    "plt.semilogy(s/s[0], linewidth=2.5, color='#1f77b4', marker='o', markersize=6, \n",
    "             markerfacecolor='white', markeredgewidth=1.5, markeredgecolor='#1f77b4')\n",
    "\n",
    "# Add labels and customize\n",
    "plt.ylabel(r\"$\\sigma_i / \\sigma_0$\", fontsize=24)\n",
    "plt.xlabel(r\"Singular value index, $i$\", fontsize=24)\n",
    "plt.grid(True, alpha=0.7)\n",
    "plt.xticks(fontsize=20)\n",
    "plt.yticks(fontsize=20)\n",
    "\n",
    "# Add title and improve appearance\n",
    "plt.title(\"Normalized Singular Values\", fontsize=26, pad=20)\n",
    "plt.tight_layout()\n",
    "\n",
    "# Add a box around the plot\n",
    "plt.box(True)"
   ]
  },
  {
   "cell_type": "markdown",
   "metadata": {
    "slideshow": {
     "slide_type": "slide"
    }
   },
   "source": [
    "## Сжатие параметров в полносвязных нейронных сетях\n",
    "\n",
    "- Одним из основных строительных блоков современных глубоких нейронных сетей является **полносвязный слой**, также известный как **линейный слой**\n",
    "- Этот слой реализует действие линейной функции на входной вектор: $f(x) = Wx + b$, где $W$ - обучаемая матрица, а $b$ - обучаемый вектор смещения\n",
    "- И $W$, и $b$ обновляются во время обучения сети в соответствии с некоторым методом оптимизации, например, SGD, Adam и т.д.\n",
    "- Однако хранение обученных оптимальных параметров ($W$ и $b$) может быть **непозволительно затратным**, если вы хотите перенести вашу обученную сеть на устройство с ограниченной памятью\n",
    "- В качестве возможного решения вы можете **сжать** матрицы $W_i$ из $i$-го линейного слоя с помощью усеченного SVD на основе сингулярных значений!\n",
    "- Что вы получаете после такой аппроксимации $W$?\n",
    "    - эффективное использование памяти при хранении\n",
    "    - более быстрый вывод\n",
    "    - умеренное снижение точности при решении целевой задачи, например, классификации изображений"
   ]
  },
  {
   "cell_type": "markdown",
   "metadata": {
    "slideshow": {
     "slide_type": "slide"
    }
   },
   "source": [
    "## Take home message\n",
    "- Matrix rank definition\n",
    "- Skeleton approximation and dyadic representation of a rank-$r$ matrix\n",
    "- Singular value decomposition and Eckart-Young theorem\n",
    "- Three applications of SVD (linear factor analysis, dense matrix compression, active subspaces)."
   ]
  },
  {
   "cell_type": "markdown",
   "metadata": {
    "slideshow": {
     "slide_type": "slide"
    }
   },
   "source": [
    "## Next lecture\n",
    "- Linear systems\n",
    "- Inverse matrix\n",
    "- Condition number\n",
    "- Linear least squares\n",
    "- Pseudoinverse"
   ]
  },
  {
   "cell_type": "markdown",
   "metadata": {
    "slideshow": {
     "slide_type": "slide"
    }
   },
   "source": [
    "##### Questions?"
   ]
  },
  {
   "cell_type": "code",
   "execution_count": 12,
   "metadata": {
    "slideshow": {
     "slide_type": "skip"
    }
   },
   "outputs": [
    {
     "data": {
      "text/html": [
       "<link href='http://fonts.googleapis.com/css?family=Fenix' rel='stylesheet' type='text/css'>\n",
       "<link href='http://fonts.googleapis.com/css?family=Alegreya+Sans:100,300,400,500,700,800,900,100italic,300italic,400italic,500italic,700italic,800italic,900italic' rel='stylesheet' type='text/css'>\n",
       "<link href='http://fonts.googleapis.com/css?family=Source+Code+Pro:300,400' rel='stylesheet' type='text/css'>\n",
       "<style>\n",
       "    @font-face {\n",
       "        font-family: \"Computer Modern\";\n",
       "        src: url('http://mirrors.ctan.org/fonts/cm-unicode/fonts/otf/cmunss.otf');\n",
       "    }\n",
       "    div.cell{\n",
       "        /*width:80%;*/\n",
       "        /*margin-left:auto !important;\n",
       "        margin-right:auto;*/\n",
       "    }\n",
       "    h1 {\n",
       "        font-family: 'Alegreya Sans', sans-serif;\n",
       "    }\n",
       "    h2 {\n",
       "        font-family: 'Fenix', serif;\n",
       "    }\n",
       "    h3{\n",
       "\t\tfont-family: 'Fenix', serif;\n",
       "        margin-top:12px;\n",
       "        margin-bottom: 3px;\n",
       "       }\n",
       "\th4{\n",
       "\t\tfont-family: 'Fenix', serif;\n",
       "       }\n",
       "    h5 {\n",
       "        font-family: 'Alegreya Sans', sans-serif;\n",
       "    }\t   \n",
       "    div.text_cell_render{\n",
       "        font-family: 'Alegreya Sans',Computer Modern, \"Helvetica Neue\", Arial, Helvetica, Geneva, sans-serif;\n",
       "        line-height: 1.2;\n",
       "        font-size: 120%;\n",
       "        /*width:70%;*/\n",
       "        /*margin-left:auto;*/\n",
       "        margin-right:auto;\n",
       "    }\n",
       "    .CodeMirror{\n",
       "            font-family: \"Source Code Pro\";\n",
       "\t\t\tfont-size: 90%;\n",
       "    }\n",
       "/*    .prompt{\n",
       "        display: None;\n",
       "    }*/\n",
       "    .text_cell_render h1 {\n",
       "        font-weight: 200;\n",
       "        font-size: 50pt;\n",
       "\t\tline-height: 110%;\n",
       "        color:#CD2305;\n",
       "        margin-bottom: 0.5em;\n",
       "        margin-top: 0.5em;\n",
       "        display: block;\n",
       "    }\t\n",
       "    .text_cell_render h5 {\n",
       "        font-weight: 300;\n",
       "        font-size: 16pt;\n",
       "        color: #CD2305;\n",
       "        font-style: italic;\n",
       "        margin-bottom: .5em;\n",
       "        margin-top: 0.5em;\n",
       "        display: block;\n",
       "    }\n",
       "    \n",
       "    li {\n",
       "        line-height: 110%;\n",
       "    }\n",
       "    .warning{\n",
       "        color: rgb( 240, 20, 20 )\n",
       "        }  \n",
       "\n",
       "</style>\n",
       "\n",
       "<script>\n",
       "    MathJax.Hub.Config({\n",
       "                        TeX: {\n",
       "                           extensions: [\"AMSmath.js\"]\n",
       "                           },\n",
       "                tex2jax: {\n",
       "                    inlineMath: [ ['$','$'], [\"\\\\(\",\"\\\\)\"] ],\n",
       "                    displayMath: [ ['$$','$$'], [\"\\\\[\",\"\\\\]\"] ]\n",
       "                },\n",
       "                displayAlign: 'center', // Change this to 'center' to center equations.\n",
       "                \"HTML-CSS\": {\n",
       "                    styles: {'.MathJax_Display': {\"margin\": 4}}\n",
       "                }\n",
       "        });\n",
       "</script>\n"
      ],
      "text/plain": [
       "<IPython.core.display.HTML object>"
      ]
     },
     "execution_count": 12,
     "metadata": {},
     "output_type": "execute_result"
    }
   ],
   "source": [
    "from IPython.core.display import HTML\n",
    "def css_styling():\n",
    "    styles = open(\"../styles/custom.css\", \"r\").read()\n",
    "    return HTML(styles)\n",
    "css_styling()"
   ]
  }
 ],
 "metadata": {
  "anaconda-cloud": {},
  "celltoolbar": "Slideshow",
  "kernelspec": {
   "display_name": "Python 3",
   "language": "python",
   "name": "python3"
  },
  "language_info": {
   "codemirror_mode": {
    "name": "ipython",
    "version": 3
   },
   "file_extension": ".py",
   "mimetype": "text/x-python",
   "name": "python",
   "nbconvert_exporter": "python",
   "pygments_lexer": "ipython3",
   "version": "3.10.15"
  },
  "latex_envs": {
   "LaTeX_envs_menu_present": true,
   "bibliofile": "biblio.bib",
   "cite_by": "apalike",
   "current_citInitial": 1,
   "eqLabelWithNumbers": true,
   "eqNumInitial": 1,
   "labels_anchors": false,
   "latex_user_defs": false,
   "report_style_numbering": false,
   "user_envs_cfg": false
  },
  "nav_menu": {},
  "rise": {
   "scroll": true,
   "theme": "sky",
   "transition": "zoom"
  },
  "toc": {
   "navigate_menu": true,
   "number_sections": false,
   "sideBar": true,
   "threshold": 6,
   "toc_cell": false,
   "toc_section_display": "block",
   "toc_window_display": false
  }
 },
 "nbformat": 4,
 "nbformat_minor": 1
}
