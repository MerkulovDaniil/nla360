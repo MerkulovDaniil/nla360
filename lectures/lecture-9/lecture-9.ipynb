{
 "cells": [
  {
   "cell_type": "markdown",
   "metadata": {
    "slideshow": {
     "slide_type": "slide"
    }
   },
   "source": [
    "# Лекция 9: Разреженная линейная алгебра"
   ]
  },
  {
   "cell_type": "markdown",
   "metadata": {
    "slideshow": {
     "slide_type": "slide"
    }
   },
   "source": [
    "## Краткий обзор предыдущей лекции\n",
    "- Рандомизированное умножение матриц\n",
    "- Оценка следа по методу Хатчинсона\n",
    "- Рандомизированное SVD\n",
    "- Метод Качмажа"
   ]
  },
  {
   "cell_type": "markdown",
   "metadata": {},
   "source": [
    "## План сегодняшней лекции\n",
    "\n",
    "- Простая тема в параллельных вычислениях в линейной алгебре (на примере умножения матрицы на вектор)\n",
    "- Часть о разреженных матрицах (с отдельным планом)"
   ]
  },
  {
   "cell_type": "markdown",
   "metadata": {
    "slideshow": {
     "slide_type": "slide"
    }
   },
   "source": [
    "## Матрицы большого размера\n",
    "\n",
    "- Если размер плотной матрицы огромен, то она не может быть сохранена в памяти\n",
    "- Возможные варианты\n",
    "    - Эта матрица **структурированная**, например, блочная теплицева с теплицевыми блоками (следующие лекции). Тогда возможно сжатое хранение\n",
    "    - Для неструктурированных плотных матриц помогает **распределенная память**\n",
    "    - MPI для обработки матриц с распределенным хранением"
   ]
  },
  {
   "cell_type": "markdown",
   "metadata": {
    "slideshow": {
     "slide_type": "slide"
    }
   },
   "source": [
    "### Распределенная память и MPI\n",
    "\n",
    "- Разделение матрицы на блоки и хранение их на разных машинах\n",
    "- Каждая машина имеет свое собственное адресное пространство и не может повредить данные на других машинах\n",
    "- В этом случае машины взаимодействуют друг с другом для объединения результатов вычислений\n",
    "- [MPI (Message Passing Interface)](https://en.wikipedia.org/wiki/Message_Passing_Interface) - это стандарт для параллельных вычислений в распределенной памяти\n"
   ]
  },
  {
   "cell_type": "markdown",
   "metadata": {
    "slideshow": {
     "slide_type": "slide"
    }
   },
   "source": [
    "### Пример: умножение матрицы на вектор\n",
    "\n",
    "- Предположим, что вы хотите вычислить $Ax$, и матрица $A$ не может быть сохранена в доступной памяти\n",
    "- Тогда вы можете разделить её на блоки и распределить блоки на отдельные машины\n",
    "- Возможные стратегии\n",
    "    - 1D блочное разделение разбивает только строки на блоки\n",
    "    - 2D блочное разделение разбивает как строки, так и столбцы"
   ]
  },
  {
   "cell_type": "markdown",
   "metadata": {
    "slideshow": {
     "slide_type": "slide"
    }
   },
   "source": [
    "#### 1D blocking scheme\n",
    "<img src=\"1d_block.jpg\">"
   ]
  },
  {
   "cell_type": "markdown",
   "metadata": {
    "slideshow": {
     "slide_type": "slide"
    }
   },
   "source": [
    "#### Total time of computing matvec with 1D blocking\n",
    "\n",
    "- Each machine has $n / p $ complete rows and $n / p$ elements of vector\n",
    "- Total operations are $n^2 / p$\n",
    "- Total time for sending and writing data are $t_s \\log p + t_w n$, where $t_s$ time unit for sending and $t_w$ time unit for writing"
   ]
  },
  {
   "cell_type": "markdown",
   "metadata": {
    "slideshow": {
     "slide_type": "slide"
    }
   },
   "source": [
    "#### 2D blocking scheme\n",
    "\n",
    "<img src=\"2d_block.png\" width=400>"
   ]
  },
  {
   "cell_type": "markdown",
   "metadata": {
    "slideshow": {
     "slide_type": "slide"
    }
   },
   "source": [
    "#### Общее время вычисления умножения матрицы на вектор с 2D блочным разделением\n",
    "\n",
    "- Каждая машина имеет блок размера $n / \\sqrt{p}$ и $n / \\sqrt{p}$ элементов вектора\n",
    "- Общее количество операций составляет $n^2 / p$\n",
    "- Общее время для отправки и записи данных приблизительно равно $t_s \\log p + t_w (n/\\sqrt{p}) \\log p$, где $t_s$ - единица времени для отправки, а $t_w$ - единица времени для записи"
   ]
  },
  {
   "cell_type": "markdown",
   "metadata": {
    "slideshow": {
     "slide_type": "slide"
    }
   },
   "source": [
    "### Пакеты, поддерживающие распределенное хранение\n",
    "\n",
    "- [ScaLAPACK](http://www.netlib.org/scalapack/)\n",
    "- [Trilinos](https://trilinos.org/)\n",
    "\n",
    "В Python вы можете использовать [mpi4py](https://mpi4py.readthedocs.io/en/stable/) для параллельного программирования вашего алгоритма.\n",
    "\n",
    "- PyTorch поддерживает распределенное обучение и хранение данных, подробности [здесь](https://pytorch.org/tutorials/intermediate/dist_tuto.html)"
   ]
  },
  {
   "cell_type": "markdown",
   "metadata": {
    "slideshow": {
     "slide_type": "slide"
    }
   },
   "source": [
    "### Резюме по обработке больших неструктурированных матриц\n",
    "\n",
    "- Распределенный способ хранения\n",
    "- MPI\n",
    "- Пакеты, использующие параллельные вычисления\n",
    "- Различные стратегии блочного разделения"
   ]
  },
  {
   "cell_type": "markdown",
   "metadata": {
    "slideshow": {
     "slide_type": "slide"
    }
   },
   "source": [
    "## Введение в разреженные матрицы\n",
    "\n",
    "- Для задач плотной линейной алгебры мы ограничены памятью для хранения полной матрицы, это $N^2$ параметров.\n",
    "\n",
    "- Класс **разреженных** матриц, где большинство элементов равны нулю, позволяет нам **как минимум** хранить такие матрицы.\n",
    "\n",
    "Вопрос в том, можем ли мы:\n",
    "\n",
    "- решать линейные системы\n",
    "- решать задачи на собственные значения\n",
    "\n",
    "с разреженными матрицами"
   ]
  },
  {
   "cell_type": "markdown",
   "metadata": {
    "slideshow": {
     "slide_type": "slide"
    }
   },
   "source": [
    "## План следующей части лекции\n",
    "\n",
    "Теперь мы поговорим о **разреженных матрицах**, где они возникают, как мы их храним, как мы с ними работаем.\n",
    "\n",
    "\n",
    "- Форматы: список списков и формат сжатых разреженных строк, связь с графами\n",
    "- Умножение матрицы на вектор\n",
    "- Параллельная обработка разреженных матриц\n",
    "- Быстрые прямые решатели для метода Гаусса (начало)"
   ]
  },
  {
   "cell_type": "markdown",
   "metadata": {
    "slideshow": {
     "slide_type": "slide"
    }
   },
   "source": [
    "## Применения разреженных матриц\n",
    "\n",
    "Разреженные матрицы возникают в:\n",
    "\n",
    "- дифференциальных уравнениях в частных производных (ДУЧП), математическом моделировании\n",
    "- анализе графов, например, при анализе социальных сетей\n",
    "- рекомендательных системах\n",
    "- везде, где отношения между объектами являются \"разреженными\"."
   ]
  },
  {
   "cell_type": "markdown",
   "metadata": {
    "slideshow": {
     "slide_type": "slide"
    }
   },
   "source": [
    "### Разреженные матрицы повсеместны в ДУЧП\n",
    "\n",
    "Простейшее дифференциальное уравнение в частных производных (ДУЧП), называемое \n",
    "\n",
    "**Уравнение Лапласа**:  \n",
    "\n",
    "$$\n",
    "   \\Delta T = \\frac{\\partial^2 T}{\\partial x^2} + \\frac{\\partial^2 T}{\\partial y^2} = f(x,y), \\quad x,y\\in \\Omega\\equiv[0,1]^2,\n",
    "$$\n",
    "\n",
    "$$\n",
    "    T_{\\partial\\Omega} = 0.\n",
    "$$"
   ]
  },
  {
   "cell_type": "markdown",
   "metadata": {
    "slideshow": {
     "slide_type": "slide"
    }
   },
   "source": [
    "#### Discretization\n",
    "\n",
    "$$\\frac{\\partial^2 T}{\\partial x^2} \\approx \\frac{T(x+h) + T(x-h) - 2T(x)}{h^2} + \\mathcal{O}(h^2),$$\n",
    "\n",
    "same for $\\frac{\\partial^2 T}{\\partial y^2},$\n",
    "and we get a linear system.  \n",
    "    First, let us consider **one-dimensional case**:"
   ]
  },
  {
   "cell_type": "markdown",
   "metadata": {
    "slideshow": {
     "slide_type": "slide"
    }
   },
   "source": [
    "После дискретизации одномерного уравнения Лапласа с граничными условиями Дирихле мы получаем\n",
    "\n",
    "$$\\frac{u_{i+1} + u_{i-1} - 2u_i}{h^2} = f_i,\\quad i=1,\\dots,N-1$$\n",
    "\n",
    "$$ u_{0} = u_N = 0$$\n",
    "или в матричной форме\n",
    "\n",
    "$$ A u = f,$$\n",
    "и (для $n = 5$)\n",
    "$$A=-\\frac{1}{h^2}\\begin{bmatrix} 2 & -1 & 0 & 0 & 0\\\\ -1 & 2 & -1 & 0 &0 \\\\ 0 & -1 & 2& -1 & 0 \\\\ 0 & 0 & -1 & 2  &-1\\\\ 0 & 0 & 0 & -1 & 2 \\end{bmatrix}$$"
   ]
  },
  {
   "cell_type": "markdown",
   "metadata": {
    "slideshow": {
     "slide_type": "fragment"
    }
   },
   "source": [
    "Матрица является **трехдиагональной** и **разреженной**  \n",
    "(а также **теплицевой**: все элементы на диагонали одинаковы)"
   ]
  },
  {
   "cell_type": "markdown",
   "metadata": {
    "slideshow": {
     "slide_type": "slide"
    }
   },
   "source": [
    "#### Блочная структура в 2D\n",
    "В двух измерениях мы получаем уравнение вида\n",
    "\n",
    "$$-\\frac{4u_{ij} -u_{(i-1)j} - u_{(i+1)j} - u_{i(j-1)}-u_{i(j+1)}}{h^2} = f_{ij},$$\n",
    "\n",
    "или в форме **кронекерова произведения**  \n",
    "\n",
    "$$\\Delta_{2D} = \\Delta_{1D} \\otimes I + I \\otimes \\Delta_{1D},$$\n",
    "\n",
    "где $\\Delta_{1D}$ - одномерный оператор Лапласа, а $\\otimes$ - **кронекерово произведение** матриц.\n",
    "\n",
    "Для матриц $A\\in\\mathbb{R}^{n\\times m}$ и $B\\in\\mathbb{R}^{l\\times k}$ их кронекерово произведение определяется как блочная матрица вида\n",
    "\n",
    "$$\n",
    "   A\\otimes B = \\begin{bmatrix}a_{11}B & \\dots & a_{1m}B \\\\ \\vdots & \\ddots & \\vdots \\\\ a_{n1}B & \\dots & a_{nm}B\\end{bmatrix}\\in\\mathbb{R}^{nl\\times mk}.\n",
    "$$"
   ]
  },
  {
   "cell_type": "markdown",
   "metadata": {
    "slideshow": {
     "slide_type": "slide"
    }
   },
   "source": [
    "В блочной матричной форме 2D-матрица Лапласа может быть записана в следующем виде:  \n",
    "\n",
    "$$A = -\\frac{1}{h^2}\\begin{bmatrix} \\Delta_1 + 2I & -I & 0 & 0 & 0\\\\ -I & \\Delta_1 + 2I  & -I & 0 &0 \\\\ 0 & -I & \\Delta_1 + 2I & -I & 0 \\\\ 0 & 0 & -I & \\Delta_1 + 2I   &-I\\\\ 0 & 0 & 0 & -I & \\Delta_1 + 2I \\end{bmatrix}$$"
   ]
  },
  {
   "cell_type": "markdown",
   "metadata": {
    "slideshow": {
     "slide_type": "slide"
    }
   },
   "source": [
    "##### Краткий список свойств кронекерова произведения\n",
    "\n",
    "- Оно билинейно\n",
    "- $(A\\otimes B) (C\\otimes D) = AC \\otimes BD$\n",
    "- Пусть $\\mathrm{vec}(X)$ - векторизация матрицы $X$ по столбцам. Тогда \n",
    "$\\mathrm{vec}(AXB) = (B^T \\otimes A) \\mathrm{vec}(X).$"
   ]
  },
  {
   "cell_type": "markdown",
   "metadata": {
    "slideshow": {
     "slide_type": "slide"
    }
   },
   "source": [
    "### Разреженные матрицы помогают в вычислительной теории графов\n",
    "\n",
    "- Графы представляются матрицей смежности, которая обычно разрежена\n",
    "- Численное решение задач теории графов основано на обработке этой разреженной матрицы\n",
    "    - Обнаружение сообществ и кластеризация графов\n",
    "    - Обучение ранжированию\n",
    "    - Случайные блуждания\n",
    "    - Другие\n",
    "- Пример: вероятно, самый большой общедоступный граф гиперссылок состоит из 3,5 миллиардов веб-страниц и 128 миллиардов гиперссылок, подробнее см. [здесь](http://webdatacommons.org/hyperlinkgraph/)\n",
    "- Графы среднего масштаба для тестирования ваших алгоритмов доступны в [Стэнфордской коллекции больших сетевых данных](https://snap.stanford.edu/data/)"
   ]
  },
  {
   "cell_type": "markdown",
   "metadata": {
    "slideshow": {
     "slide_type": "slide"
    }
   },
   "source": [
    "### Коллекция разреженных матриц SuiteSparse (ранее известная как коллекция разреженных матриц Флориды)\n",
    "\n",
    "Больше разреженных матриц вы можете найти в [коллекции матриц SuiteSparse](https://sparse.tamu.edu/), которая содержит различные типы матриц для разных приложений."
   ]
  },
  {
   "cell_type": "code",
   "execution_count": 3,
   "metadata": {
    "slideshow": {
     "slide_type": "slide"
    }
   },
   "outputs": [
    {
     "data": {
      "text/html": [
       "\n",
       "        <iframe\n",
       "            width=\"700\"\n",
       "            height=\"450\"\n",
       "            src=\"http://yifanhu.net/GALLERY/GRAPHS/search.html\"\n",
       "            frameborder=\"0\"\n",
       "            allowfullscreen\n",
       "            \n",
       "        ></iframe>\n",
       "        "
      ],
      "text/plain": [
       "<IPython.lib.display.IFrame at 0x1141fc1f0>"
      ]
     },
     "execution_count": 3,
     "metadata": {},
     "output_type": "execute_result"
    }
   ],
   "source": [
    "from IPython.display import IFrame\n",
    "IFrame(\"http://yifanhu.net/GALLERY/GRAPHS/search.html\", width=700, height=450)"
   ]
  },
  {
   "cell_type": "markdown",
   "metadata": {
    "slideshow": {
     "slide_type": "slide"
    }
   },
   "source": [
    "### Sparse matrices and deep learning\n",
    "\n",
    "- DNN has a lot of parameters\n",
    "- Some of them may be redundant\n",
    "- How to prune the parameters without significantly accuracy reduction?\n",
    "- [Sparse variational dropout method](https://github.com/ars-ashuha/variational-dropout-sparsifies-dnn) leads to significantly sparse filters in DNN almost without accuracy decreasing: the idea of **pruning**"
   ]
  },
  {
   "cell_type": "markdown",
   "metadata": {
    "slideshow": {
     "slide_type": "slide"
    }
   },
   "source": [
    "## Разреженная матрица: построение\n",
    "\n",
    "- Мы можем создать разреженную матрицу, используя пакет **scipy.sparse** (на самом деле это **не лучший** пакет для разреженных матриц)\n",
    "\n",
    "- Мы можем работать с действительно большими размерами (по крайней мере, для хранения этой матрицы в памяти)\n",
    "\n",
    "Обратите внимание на следующие функции\n",
    "- Создание разреженных матриц с заданными диагоналями ```spdiags```\n",
    "- Кронекерово произведение разреженных матриц ```kron```\n",
    "- Также для разреженных матриц перегружена арифметика"
   ]
  },
  {
   "cell_type": "code",
   "execution_count": 6,
   "metadata": {
    "slideshow": {
     "slide_type": "slide"
    }
   },
   "outputs": [
    {
     "data": {
      "text/plain": [
       "<matplotlib.lines.Line2D at 0x115f75f90>"
      ]
     },
     "execution_count": 6,
     "metadata": {},
     "output_type": "execute_result"
    },
    {
     "data": {
      "image/png": "[encoded data removed]",
      "text/plain": [
       "<Figure size 640x480 with 1 Axes>"
      ]
     },
     "metadata": {},
     "output_type": "display_data"
    }
   ],
   "source": [
    "import numpy as np\n",
    "import scipy as sp\n",
    "import scipy.sparse\n",
    "from scipy.sparse import csc_matrix, csr_matrix\n",
    "import matplotlib.pyplot as plt\n",
    "import scipy.linalg\n",
    "import scipy.sparse.linalg\n",
    "%matplotlib inline\n",
    "n = 128\n",
    "ex = np.ones(n);\n",
    "lp1 = sp.sparse.spdiags(np.vstack((ex,  -2*ex, ex)), [-1, 0, 1], n, n, 'csr'); \n",
    "e = sp.sparse.eye(n)\n",
    "A = sp.sparse.kron(lp1, e) + sp.sparse.kron(e, lp1)\n",
    "A = csc_matrix(A)\n",
    "plt.spy(A, aspect='equal', marker='.', markersize=5)"
   ]
  },
  {
   "cell_type": "markdown",
   "metadata": {
    "slideshow": {
     "slide_type": "slide"
    }
   },
   "source": [
    "### Структура разреженности\n",
    "\n",
    "- Команда ```spy``` отображает структуру разреженности матрицы: пиксель $(i, j)$ отображается, если соответствующий элемент матрицы ненулевой.\n",
    "\n",
    "- Структура разреженности действительно важна для понимания сложности алгоритмов разреженной линейной алгебры.\n",
    "\n",
    "- Часто для анализа \"насколько сложна\" матрица достаточно только структуры разреженности."
   ]
  },
  {
   "cell_type": "markdown",
   "metadata": {
    "slideshow": {
     "slide_type": "slide"
    }
   },
   "source": [
    "### Разреженная матрица: определение\n",
    "\n",
    "- Определение \"разреженной матрицы\" заключается в том, что количество **ненулевых элементов** намного меньше общего числа элементов.\n",
    "\n",
    "- Вы можете выполнять основные операции линейной алгебры (в первую очередь решение линейных систем) быстрее, чем при работе с полной матрицей."
   ]
  },
  {
   "cell_type": "markdown",
   "metadata": {
    "slideshow": {
     "slide_type": "slide"
    }
   },
   "source": [
    "## Что нам нужно выяснить, чтобы понять, как это работает на самом деле\n",
    "\n",
    "- **Вопрос 1:** Как хранить разреженную матрицу в памяти?\n",
    "\n",
    "- **Вопрос 2:** Как быстро умножать разреженную матрицу на вектор?\n",
    "\n",
    "- **Вопрос 3:** Как быстро решать линейные системы с разреженными матрицами?"
   ]
  },
  {
   "cell_type": "markdown",
   "metadata": {
    "slideshow": {
     "slide_type": "slide"
    }
   },
   "source": [
    "### Хранение разреженных матриц\n",
    "\n",
    "Существует множество форматов хранения, важные из них:\n",
    "\n",
    "- COO (Координатный формат)\n",
    "- LIL (Списки списков)\n",
    "- CSR (сжатая разреженная строка)\n",
    "- CSC (сжатый разреженный столбец)\n",
    "- Блочные варианты\n",
    "\n",
    "В ```scipy``` есть конструкторы для каждого из этих форматов, например "
   ]
  },
  {
   "cell_type": "markdown",
   "metadata": {
    "slideshow": {
     "slide_type": "slide"
    }
   },
   "source": [
    "#### Координатный формат (COO)\n",
    "\n",
    "Простейший формат - это использование **координатного формата** для представления разреженной матрицы в виде позиций и значений ненулевых элементов."
   ]
  },
  {
   "cell_type": "markdown",
   "metadata": {
    "slideshow": {
     "slide_type": "slide"
    }
   },
   "source": [
    "#### Основные недостатки\n",
    "\n",
    "- Не оптимален по хранению (почему?)\n",
    "- Не оптимален для умножения матрицы на вектор (почему?)\n",
    "- Не оптимален для удаления элементов, так как нужно выполнить **nnz** операций, чтобы найти один элемент (это хорошо в формате LIL)\n",
    "\n",
    "Первые два недостатка решаются форматом **сжатой разреженной строки** (CSR)."
   ]
  },
  {
   "cell_type": "markdown",
   "metadata": {
    "slideshow": {
     "slide_type": "slide"
    }
   },
   "source": [
    "#### Сжатая разреженная строка (CSR)\n",
    "\n",
    "В формате CSR матрица хранится в виде 3 различных массивов:"
   ]
  },
  {
   "cell_type": "markdown",
   "metadata": {
    "slideshow": {
     "slide_type": "slide"
    }
   },
   "source": [
    "### Разреженные матрицы в PyTorch и Tensorflow\n",
    "\n",
    "- PyTorch поддерживает разреженные матрицы, хранящиеся в формате COO\n",
    "- Неполная обратная операция для этих матриц, см. сводку [здесь](https://github.com/pytorch/pytorch/issues/9674)\n",
    "- Tensorflow также поддерживает разреженные матрицы в формате COO\n",
    "- Список поддерживаемых операций находится [здесь](https://www.tensorflow.org/api_docs/python/tf/sparse), и поддержка градиентов также ограничена"
   ]
  },
  {
   "cell_type": "markdown",
   "metadata": {
    "slideshow": {
     "slide_type": "slide"
    }
   },
   "source": [
    "### CSR помогает в умножении разреженной матрицы на вектор (SpMV)"
   ]
  },
  {
   "cell_type": "markdown",
   "metadata": {
    "slideshow": {
     "slide_type": "fragment"
    }
   },
   "source": [
    "Давайте проведем короткий тест на время выполнения"
   ]
  },
  {
   "cell_type": "code",
   "execution_count": 1,
   "metadata": {
    "slideshow": {
     "slide_type": "slide"
    }
   },
   "outputs": [
    {
     "name": "stdout",
     "output_type": "stream",
     "text": [
      "3.24 ms ± 74.4 μs per loop (mean ± std. dev. of 7 runs, 100 loops each)\n",
      "19.7 ms ± 379 μs per loop (mean ± std. dev. of 7 runs, 100 loops each)\n"
     ]
    }
   ],
   "source": [
    "import numpy as np\n",
    "import scipy as sp\n",
    "import scipy.sparse\n",
    "import scipy.sparse.linalg\n",
    "from scipy.sparse import csc_matrix, csr_matrix, coo_matrix\n",
    "import matplotlib.pyplot as plt\n",
    "%matplotlib inline\n",
    "n = 1024\n",
    "ex = np.ones(n);\n",
    "lp1 = sp.sparse.spdiags(np.vstack((ex,  -2*ex, ex)), [-1, 0, 1], n, n, 'csr'); \n",
    "e = sp.sparse.eye(n)\n",
    "A = sp.sparse.kron(lp1, e) + sp.sparse.kron(e, lp1)\n",
    "A = csr_matrix(A)\n",
    "rhs = np.ones(n * n)\n",
    "B = coo_matrix(A)\n",
    "%timeit A.dot(rhs)\n",
    "%timeit B.dot(rhs)"
   ]
  },
  {
   "cell_type": "markdown",
   "metadata": {
    "slideshow": {
     "slide_type": "fragment"
    }
   },
   "source": [
    "Как видите, **CSR** работает быстрее, и для более **неструктурированных шаблонов** выигрыш будет еще больше."
   ]
  },
  {
   "cell_type": "markdown",
   "metadata": {
    "slideshow": {
     "slide_type": "slide"
    }
   },
   "source": [
    "### Разреженные матрицы и эффективность\n",
    "\n",
    "- Разреженные матрицы дают снижение вычислительной сложности.\n",
    "- Но они **не очень хороши** для параллельной/GPU реализации.\n",
    "- Они не дают максимальной эффективности из-за **случайного доступа к данным**.\n",
    "- Обычно пиковая эффективность в $10\\%-15\\%$ считается хорошей."
   ]
  },
  {
   "cell_type": "markdown",
   "metadata": {
    "slideshow": {
     "slide_type": "slide"
    }
   },
   "source": [
    "### Вспомним, как мы измеряем эффективность операций линейной алгебры\n",
    "\n",
    "Стандартный способ измерения эффективности операций линейной алгебры на конкретной вычислительной архитектуре - использовать **flops** (количество операций с плавающей точкой в секунду)\n",
    "\n",
    "Мы можем измерить пиковую эффективность обычного умножения матрицы на вектор."
   ]
  },
  {
   "cell_type": "code",
   "execution_count": 4,
   "metadata": {
    "slideshow": {
     "slide_type": "slide"
    }
   },
   "outputs": [
    {
     "name": "stdout",
     "output_type": "stream",
     "text": [
      "Time:  9.0e-02, Efficiency:  5.0e+02 Gflops\n"
     ]
    }
   ],
   "source": [
    "import numpy as np\n",
    "import time\n",
    "n = 4000\n",
    "k = 1400\n",
    "a = np.random.randn(n, n)\n",
    "v = np.random.randn(n, k)\n",
    "t = time.time()\n",
    "np.dot(a, v)\n",
    "t = time.time() - t\n",
    "print('Time: {0: 3.1e}, Efficiency: {1: 3.1e} Gflops'.\\\n",
    "      format(t,  ((k*2 * n ** 2)/t) / 10 ** 9))"
   ]
  },
  {
   "cell_type": "code",
   "execution_count": 14,
   "metadata": {
    "slideshow": {
     "slide_type": "slide"
    }
   },
   "outputs": [
    {
     "name": "stdout",
     "output_type": "stream",
     "text": [
      "Time:  8.1e-03, Efficiency:  3.0e+00 Gflops\n"
     ]
    }
   ],
   "source": [
    "import scipy as sp\n",
    "n = 4000\n",
    "k = 2000\n",
    "ex = np.ones(n)\n",
    "a = sp.sparse.spdiags(np.vstack((ex,  -2*ex, ex)), [-1, 0, 1], n, n, 'csr'); \n",
    "rhs = np.random.randn(n, k)\n",
    "t = time.time()\n",
    "a.dot(rhs)\n",
    "t = time.time() - t\n",
    "print('Time: {0: 3.1e}, Efficiency: {1: 3.1e} Gflops'.\\\n",
    "      format(t,  (3 * n * k) / t / 10 ** 9))"
   ]
  },
  {
   "cell_type": "markdown",
   "metadata": {
    "slideshow": {
     "slide_type": "slide"
    }
   },
   "source": [
    "### Случайный доступ к данным и кэш-промахи\n",
    "\n",
    "- Изначально все элементы матрицы и вектора хранятся в оперативной памяти (RAM)\n",
    "- Если вы хотите вычислить произведение матрицы на вектор, часть элементов матрицы и вектора перемещается в **кэш** (быстрая память малого объема, см. (лекцию об алгоритме Штрассена))\n",
    "- После этого процессор берет данные из кэша для обработки и возвращает результат также в кэш\n",
    "- Если процессору нужны данные, которых еще нет в кэше, такая ситуация называется **кэш-промахом**\n",
    "- При кэш-промахе требуемые данные перемещаются из оперативной памяти в кэш\n",
    "\n",
    "**Вопрос**: что если в кэше нет свободного места?\n",
    "\n",
    "\n",
    "- Чем больше кэш-промахов, тем медленнее вычисления"
   ]
  },
  {
   "cell_type": "markdown",
   "metadata": {
    "slideshow": {
     "slide_type": "slide"
    }
   },
   "source": [
    "#### CSR sparse matrix by vector product"
   ]
  },
  {
   "cell_type": "markdown",
   "metadata": {
    "slideshow": {
     "slide_type": "slide"
    }
   },
   "source": [
    "### Переупорядочение уменьшает кэш-промахи\n",
    "\n",
    "- Если ```ja``` хранит последовательные элементы, то они будут перемещены в кэш вместе, и количество кэш-промахов уменьшается\n",
    "- Это происходит, когда разреженная матрица является ленточной или по крайней мере блочно-диагональной\n",
    "- Мы можем преобразовать заданную разреженную матрицу в ленточную или блочно-диагональную с помощью *перестановок*\n",
    "\n",
    "- Пусть $P$ - матрица перестановки строк, а $Q$ - матрица перестановки столбцов\n",
    "- $A_1 = PAQ$ - матрица, которая имеет меньшую ширину ленты, чем $A$\n",
    "- $y = Ax \\to \\tilde{y} = A_1 \\tilde{x}$, где $\\tilde{x} = Q^{\\top}x$ и $\\tilde{y} = Py$\n",
    "- [Разделенная блочно-диагональная форма](http://albert-jan.yzelman.net/PDFs/yzelman09-rev.pdf) - это кэш-независимый формат для произведения разреженной матрицы на вектор\n",
    "- Это можно расширить для 2D, где разделены не только строки, но и столбцы"
   ]
  },
  {
   "cell_type": "markdown",
   "metadata": {
    "slideshow": {
     "slide_type": "slide"
    }
   },
   "source": [
    "#### Пример, как выглядит переупорядочение\n",
    "\n",
    "- SBD in 1D \n",
    "<img src=\"sbd.png\" width=\"400\">"
   ]
  },
  {
   "cell_type": "markdown",
   "metadata": {
    "slideshow": {
     "slide_type": "slide"
    }
   },
   "source": [
    "### Произведение разреженной *транспонированной* матрицы на вектор\n",
    "\n",
    "- В некоторых случаях важно вычислить не только $Ax$ для разреженной $A$, но и $A^{\\top}x$\n",
    "- Более подробно это будет обсуждаться в лекции о методах Крылова для несимметричных линейных систем\n",
    "- Транспонирование вычислительно затратно\n",
    "- [Здесь](https://people.eecs.berkeley.edu/~aydin/csb2009.pdf) предложен формат хранения **compressed sparse block**, подходящий для этого случая"
   ]
  },
  {
   "cell_type": "markdown",
   "metadata": {
    "slideshow": {
     "slide_type": "slide"
    }
   },
   "source": [
    "#### Compressed sparse block (CSB)\n",
    "\n",
    "- Разделение матрицы на блоки\n",
    "- Хранение индексов блоков и индексов данных **внутри** каждого блока\n",
    "- Таким образом, достигается разумное количество битов для хранения индексов\n",
    "- Порядок блоков и элементов внутри блоков важен для параллельной реализации\n",
    "- Переключение между строками блоков и столбцами блоков делает этот формат подходящим для умножения транспонированной матрицы на вектор"
   ]
  },
  {
   "cell_type": "markdown",
   "metadata": {
    "slideshow": {
     "slide_type": "slide"
    }
   },
   "source": [
    "## Решение линейных систем с разреженными матрицами\n",
    "\n",
    "- Прямые методы\n",
    "    - LU-разложение\n",
    "    - Ряд методов переупорядочения для минимизации заполнения\n",
    "- Методы Крылова"
   ]
  },
  {
   "cell_type": "markdown",
   "metadata": {
    "slideshow": {
     "slide_type": "slide"
    }
   },
   "source": [
    "Давайте начнем с небольшой демонстрации решения разреженной линейной системы..."
   ]
  },
  {
   "cell_type": "code",
   "execution_count": 18,
   "metadata": {
    "slideshow": {
     "slide_type": "fragment"
    }
   },
   "outputs": [
    {
     "data": {
      "text/plain": [
       "Text(0.5, 1.0, 'Reshaped solution')"
      ]
     },
     "execution_count": 18,
     "metadata": {},
     "output_type": "execute_result"
    },
    {
     "data": {
      "image/png": "[encoded data removed]",
      "text/plain": [
       "<Figure size 640x480 with 2 Axes>"
      ]
     },
     "metadata": {},
     "output_type": "display_data"
    }
   ],
   "source": [
    "import matplotlib.pyplot as plt\n",
    "n = 512\n",
    "ex = np.ones(n);\n",
    "lp1 = sp.sparse.spdiags(np.vstack((ex,  -2*ex, ex)), [-1, 0, 1], n, n, 'csr'); \n",
    "e = sp.sparse.eye(n)\n",
    "A = sp.sparse.kron(lp1, e) + sp.sparse.kron(e, lp1)\n",
    "#A = csr_matrix(A)\n",
    "rhs = np.ones(n * n)\n",
    "sol = sp.sparse.linalg.spsolve(A, rhs)\n",
    "_, (ax1, ax2) = plt.subplots(1, 2)\n",
    "ax1.plot(sol)\n",
    "ax1.set_title('Not reshaped solution')\n",
    "ax2.contourf(sol.reshape((n, n), order='f'))\n",
    "ax2.set_title('Reshaped solution')"
   ]
  },
  {
   "cell_type": "markdown",
   "metadata": {
    "slideshow": {
     "slide_type": "slide"
    }
   },
   "source": [
    "## Основные выводы\n",
    "\n",
    "- О параллельном умножении матрицы на вектор и различных способах блочного разделения.\n",
    "- Формат CSR для хранения\n",
    "- Проблемы кэширования и параллельной обработки в работе с разреженными матрицами\n",
    "- Переупорядочение и блочное разделение как способы решения этих проблем"
   ]
  },
  {
   "cell_type": "markdown",
   "metadata": {
    "slideshow": {
     "slide_type": "slide"
    }
   },
   "source": [
    "# Questions?"
   ]
  },
  {
   "cell_type": "code",
   "execution_count": null,
   "metadata": {
    "collapsed": true,
    "slideshow": {
     "slide_type": "skip"
    }
   },
   "outputs": [],
   "source": [
    "from IPython.core.display import HTML\n",
    "def css_styling():\n",
    "    styles = open(\"./styles/custom.css\", \"r\").read()\n",
    "    return HTML(styles)\n",
    "css_styling()"
   ]
  }
 ],
 "metadata": {
  "anaconda-cloud": {},
  "celltoolbar": "Slideshow",
  "kernelspec": {
   "display_name": "Python 3 (ipykernel)",
   "language": "python",
   "name": "python3"
  },
  "language_info": {
   "codemirror_mode": {
    "name": "ipython",
    "version": 3
   },
   "file_extension": ".py",
   "mimetype": "text/x-python",
   "name": "python",
   "nbconvert_exporter": "python",
   "pygments_lexer": "ipython3",
   "version": "3.10.15"
  },
  "nav_menu": {},
  "rise": {
   "scroll": true,
   "theme": "sky",
   "transition": "zoom"
  },
  "toc": {
   "navigate_menu": true,
   "number_sections": false,
   "sideBar": true,
   "threshold": 6,
   "toc_cell": false,
   "toc_section_display": "block",
   "toc_window_display": false
  }
 },
 "nbformat": 4,
 "nbformat_minor": 1
}
